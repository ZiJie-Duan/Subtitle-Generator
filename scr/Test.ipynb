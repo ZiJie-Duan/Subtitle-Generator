{
 "cells": [
  {
   "cell_type": "code",
   "execution_count": 1,
   "metadata": {},
   "outputs": [
    {
     "name": "stdout",
     "output_type": "stream",
     "text": [
      "读取本地配置文件: config.ini\n"
     ]
    }
   ],
   "source": [
    "from basic_tools import *\n",
    "from config import DockerConfig\n",
    "from media import Media\n",
    "from openai_api import GPTApi, WisperApi\n",
    "from subtitle import SubtitleWriter, SubtitleDecoder\n",
    "from media import Media\n",
    "\n",
    "cfg = DockerConfig()\n",
    "gpt = GPTApi(cfg(\"OPENAI_API_KEY_PETER\"))\n",
    "wis = WisperApi(cfg(\"OPENAI_API_KEY_PETER\"))\n",
    "\n"
   ]
  },
  {
   "cell_type": "code",
   "execution_count": 2,
   "metadata": {},
   "outputs": [],
   "source": [
    "md = Media(FilePath(r\"C:\\Users\\lucyc\\Videos\\Captures\\How Much Muscle Effort Do I Put Into The Exercises_ - YouTube - Google Chrome 2024-05-02 15-40-54.mp4\"),\n",
    "           SystemCmd())"
   ]
  },
  {
   "cell_type": "code",
   "execution_count": 3,
   "metadata": {},
   "outputs": [
    {
     "name": "stdout",
     "output_type": "stream",
     "text": [
      "ffmpeg -i \"C:\\Users\\lucyc\\Videos\\Captures\\How Much Muscle Effort Do I Put Into The Exercises_ - YouTube - Google Chrome 2024-05-02 15-40-54.mp4\" -ss 0 -t 60 -aq 0 -map a \"C:\\Users\\lucyc\\Videos\\Captures\\temp.mp3\"\n"
     ]
    }
   ],
   "source": [
    "res = md.get_audio_pice(60)"
   ]
  },
  {
   "cell_type": "code",
   "execution_count": 4,
   "metadata": {},
   "outputs": [],
   "source": [
    "audio_file = open(r\"C:\\Users\\lucyc\\Videos\\Captures\\temp.mp3\", \"rb\")\n",
    "transcript = wis.transcribe_timestamp(audio_file)"
   ]
  },
  {
   "cell_type": "code",
   "execution_count": 5,
   "metadata": {},
   "outputs": [
    {
     "name": "stdout",
     "output_type": "stream",
     "text": [
      "Transcription(text=\"face aerobics to go and have a look at that video. In that video it shows you a number of things. The first thing it shows you and teaches you is how much muscle effort to put into the exercises. So when I do the exercises you can see me just lifting my forehead, you can see me just lifting my cheeks, you can see me just going like this, okay. And as I do those things I'm squeezing the muscles as I do them, okay. I'm not going like this, I'm not doing this, I'm not, I'm not doing this, okay. And I know my face is already contorted and all of that but I do know people who do this. That is not the way to do face aerobics. The way to perform face aerobics is in this video.\", task='transcribe', language='english', duration=60.0, words=[{'word': 'face', 'start': 0.0, 'end': 0.47999998927116394}, {'word': 'aerobics', 'start': 0.47999998927116394, 'end': 0.9200000166893005}, {'word': 'to', 'start': 0.9200000166893005, 'end': 1.440000057220459}, {'word': 'go', 'start': 1.440000057220459, 'end': 1.6399999856948853}, {'word': 'and', 'start': 1.6399999856948853, 'end': 2.0}, {'word': 'have', 'start': 2.0, 'end': 2.0199999809265137}, {'word': 'a', 'start': 2.0199999809265137, 'end': 2.259999990463257}, {'word': 'look', 'start': 2.259999990463257, 'end': 2.2799999713897705}, {'word': 'at', 'start': 2.2799999713897705, 'end': 2.440000057220459}, {'word': 'that', 'start': 2.440000057220459, 'end': 2.5999999046325684}, {'word': 'video', 'start': 2.5999999046325684, 'end': 3.0199999809265137}, {'word': 'In', 'start': 4.460000038146973, 'end': 4.539999961853027}, {'word': 'that', 'start': 4.539999961853027, 'end': 4.760000228881836}, {'word': 'video', 'start': 4.760000228881836, 'end': 5.0}, {'word': 'it', 'start': 5.0, 'end': 5.539999961853027}, {'word': 'shows', 'start': 5.539999961853027, 'end': 5.539999961853027}, {'word': 'you', 'start': 5.539999961853027, 'end': 5.71999979019165}, {'word': 'a', 'start': 5.71999979019165, 'end': 6.099999904632568}, {'word': 'number', 'start': 6.099999904632568, 'end': 6.119999885559082}, {'word': 'of', 'start': 6.119999885559082, 'end': 6.820000171661377}, {'word': 'things', 'start': 6.820000171661377, 'end': 6.820000171661377}, {'word': 'The', 'start': 7.739999771118164, 'end': 7.78000020980835}, {'word': 'first', 'start': 7.78000020980835, 'end': 8.020000457763672}, {'word': 'thing', 'start': 8.020000457763672, 'end': 8.15999984741211}, {'word': 'it', 'start': 8.15999984741211, 'end': 8.319999694824219}, {'word': 'shows', 'start': 8.319999694824219, 'end': 8.579999923706055}, {'word': 'you', 'start': 8.579999923706055, 'end': 8.880000114440918}, {'word': 'and', 'start': 8.880000114440918, 'end': 9.239999771118164}, {'word': 'teaches', 'start': 9.239999771118164, 'end': 9.460000038146973}, {'word': 'you', 'start': 9.460000038146973, 'end': 9.720000267028809}, {'word': 'is', 'start': 9.720000267028809, 'end': 10.0}, {'word': 'how', 'start': 10.0, 'end': 10.180000305175781}, {'word': 'much', 'start': 10.180000305175781, 'end': 10.460000038146973}, {'word': 'muscle', 'start': 10.460000038146973, 'end': 10.760000228881836}, {'word': 'effort', 'start': 10.760000228881836, 'end': 11.020000457763672}, {'word': 'to', 'start': 11.020000457763672, 'end': 11.300000190734863}, {'word': 'put', 'start': 11.300000190734863, 'end': 11.380000114440918}, {'word': 'into', 'start': 11.380000114440918, 'end': 11.619999885559082}, {'word': 'the', 'start': 11.619999885559082, 'end': 11.9399995803833}, {'word': 'exercises', 'start': 11.9399995803833, 'end': 12.380000114440918}, {'word': 'So', 'start': 13.039999961853027, 'end': 13.9399995803833}, {'word': 'when', 'start': 13.9399995803833, 'end': 14.079999923706055}, {'word': 'I', 'start': 14.079999923706055, 'end': 14.260000228881836}, {'word': 'do', 'start': 14.260000228881836, 'end': 14.380000114440918}, {'word': 'the', 'start': 14.380000114440918, 'end': 14.720000267028809}, {'word': 'exercises', 'start': 14.720000267028809, 'end': 15.079999923706055}, {'word': 'you', 'start': 15.079999923706055, 'end': 15.399999618530273}, {'word': 'can', 'start': 15.399999618530273, 'end': 15.640000343322754}, {'word': 'see', 'start': 15.640000343322754, 'end': 15.739999771118164}, {'word': 'me', 'start': 15.739999771118164, 'end': 15.979999542236328}, {'word': 'just', 'start': 15.979999542236328, 'end': 16.65999984741211}, {'word': 'lifting', 'start': 16.65999984741211, 'end': 16.860000610351562}, {'word': 'my', 'start': 16.860000610351562, 'end': 17.5}, {'word': 'forehead', 'start': 17.5, 'end': 17.739999771118164}, {'word': 'you', 'start': 18.860000610351562, 'end': 18.860000610351562}, {'word': 'can', 'start': 18.860000610351562, 'end': 19.079999923706055}, {'word': 'see', 'start': 19.079999923706055, 'end': 19.260000228881836}, {'word': 'me', 'start': 19.260000228881836, 'end': 19.540000915527344}, {'word': 'just', 'start': 19.540000915527344, 'end': 20.899999618530273}, {'word': 'lifting', 'start': 20.899999618530273, 'end': 21.239999771118164}, {'word': 'my', 'start': 21.239999771118164, 'end': 21.860000610351562}, {'word': 'cheeks', 'start': 21.860000610351562, 'end': 21.860000610351562}, {'word': 'you', 'start': 22.299999237060547, 'end': 23.959999084472656}, {'word': 'can', 'start': 23.959999084472656, 'end': 24.15999984741211}, {'word': 'see', 'start': 24.15999984741211, 'end': 24.260000228881836}, {'word': 'me', 'start': 24.260000228881836, 'end': 24.420000076293945}, {'word': 'just', 'start': 24.420000076293945, 'end': 24.639999389648438}, {'word': 'going', 'start': 24.639999389648438, 'end': 24.8799991607666}, {'word': 'like', 'start': 24.8799991607666, 'end': 25.15999984741211}, {'word': 'this', 'start': 25.15999984741211, 'end': 25.739999771118164}, {'word': 'okay', 'start': 25.799999237060547, 'end': 26.200000762939453}, {'word': 'And', 'start': 26.3799991607666, 'end': 27.940000534057617}, {'word': 'as', 'start': 27.940000534057617, 'end': 28.139999389648438}, {'word': 'I', 'start': 28.139999389648438, 'end': 28.31999969482422}, {'word': 'do', 'start': 28.31999969482422, 'end': 28.479999542236328}, {'word': 'those', 'start': 28.479999542236328, 'end': 28.739999771118164}, {'word': 'things', 'start': 28.739999771118164, 'end': 28.940000534057617}, {'word': \"I'm\", 'start': 28.940000534057617, 'end': 29.360000610351562}, {'word': 'squeezing', 'start': 29.360000610351562, 'end': 29.68000030517578}, {'word': 'the', 'start': 29.68000030517578, 'end': 30.100000381469727}, {'word': 'muscles', 'start': 30.100000381469727, 'end': 30.100000381469727}, {'word': 'as', 'start': 30.100000381469727, 'end': 30.34000015258789}, {'word': 'I', 'start': 30.34000015258789, 'end': 30.520000457763672}, {'word': 'do', 'start': 30.520000457763672, 'end': 30.719999313354492}, {'word': 'them', 'start': 30.719999313354492, 'end': 31.040000915527344}, {'word': 'okay', 'start': 31.5, 'end': 31.979999542236328}, {'word': \"I'm\", 'start': 32.040000915527344, 'end': 32.58000183105469}, {'word': 'not', 'start': 32.58000183105469, 'end': 32.97999954223633}, {'word': 'going', 'start': 32.97999954223633, 'end': 33.65999984741211}, {'word': 'like', 'start': 33.65999984741211, 'end': 33.900001525878906}, {'word': 'this', 'start': 33.900001525878906, 'end': 34.58000183105469}, {'word': \"I'm\", 'start': 34.58000183105469, 'end': 39.099998474121094}, {'word': 'not', 'start': 39.099998474121094, 'end': 39.31999969482422}, {'word': 'doing', 'start': 39.31999969482422, 'end': 40.08000183105469}, {'word': 'this', 'start': 40.08000183105469, 'end': 40.959999084472656}, {'word': \"I'm\", 'start': 42.68000030517578, 'end': 43.20000076293945}, {'word': 'not', 'start': 43.20000076293945, 'end': 43.47999954223633}, {'word': \"I'm\", 'start': 43.47999954223633, 'end': 44.220001220703125}, {'word': 'not', 'start': 44.220001220703125, 'end': 44.52000045776367}, {'word': 'doing', 'start': 44.52000045776367, 'end': 44.91999816894531}, {'word': 'this', 'start': 44.91999816894531, 'end': 46.0}, {'word': 'okay', 'start': 46.380001068115234, 'end': 47.959999084472656}, {'word': 'And', 'start': 47.959999084472656, 'end': 48.47999954223633}, {'word': 'I', 'start': 48.47999954223633, 'end': 48.599998474121094}, {'word': 'know', 'start': 48.599998474121094, 'end': 48.7400016784668}, {'word': 'my', 'start': 48.7400016784668, 'end': 48.91999816894531}, {'word': 'face', 'start': 48.91999816894531, 'end': 49.15999984741211}, {'word': 'is', 'start': 49.15999984741211, 'end': 49.31999969482422}, {'word': 'already', 'start': 49.31999969482422, 'end': 49.560001373291016}, {'word': 'contorted', 'start': 49.560001373291016, 'end': 49.91999816894531}, {'word': 'and', 'start': 49.91999816894531, 'end': 50.15999984741211}, {'word': 'all', 'start': 50.15999984741211, 'end': 50.29999923706055}, {'word': 'of', 'start': 50.29999923706055, 'end': 50.47999954223633}, {'word': 'that', 'start': 50.47999954223633, 'end': 50.63999938964844}, {'word': 'but', 'start': 50.63999938964844, 'end': 51.0}, {'word': 'I', 'start': 51.0, 'end': 51.15999984741211}, {'word': 'do', 'start': 51.15999984741211, 'end': 51.47999954223633}, {'word': 'know', 'start': 51.47999954223633, 'end': 51.7400016784668}, {'word': 'people', 'start': 51.7400016784668, 'end': 52.119998931884766}, {'word': 'who', 'start': 52.119998931884766, 'end': 52.459999084472656}, {'word': 'do', 'start': 52.459999084472656, 'end': 52.599998474121094}, {'word': 'this', 'start': 52.599998474121094, 'end': 52.97999954223633}, {'word': 'That', 'start': 53.459999084472656, 'end': 54.959999084472656}, {'word': 'is', 'start': 54.959999084472656, 'end': 55.119998931884766}, {'word': 'not', 'start': 55.119998931884766, 'end': 55.29999923706055}, {'word': 'the', 'start': 55.29999923706055, 'end': 55.41999816894531}, {'word': 'way', 'start': 55.41999816894531, 'end': 55.619998931884766}, {'word': 'to', 'start': 55.619998931884766, 'end': 55.779998779296875}, {'word': 'do', 'start': 55.779998779296875, 'end': 56.099998474121094}, {'word': 'face', 'start': 56.099998474121094, 'end': 56.220001220703125}, {'word': 'aerobics', 'start': 56.220001220703125, 'end': 56.86000061035156}, {'word': 'The', 'start': 56.880001068115234, 'end': 57.70000076293945}, {'word': 'way', 'start': 57.70000076293945, 'end': 57.939998626708984}, {'word': 'to', 'start': 57.939998626708984, 'end': 58.099998474121094}, {'word': 'perform', 'start': 58.099998474121094, 'end': 58.400001525878906}, {'word': 'face', 'start': 58.400001525878906, 'end': 58.81999969482422}, {'word': 'aerobics', 'start': 58.81999969482422, 'end': 59.060001373291016}, {'word': 'is', 'start': 59.060001373291016, 'end': 59.400001525878906}, {'word': 'in', 'start': 59.400001525878906, 'end': 59.599998474121094}, {'word': 'this', 'start': 59.599998474121094, 'end': 59.81999969482422}, {'word': 'video', 'start': 59.81999969482422, 'end': 59.97999954223633}])\n"
     ]
    }
   ],
   "source": [
    "print(transcript)"
   ]
  },
  {
   "cell_type": "code",
   "execution_count": 6,
   "metadata": {},
   "outputs": [
    {
     "name": "stdout",
     "output_type": "stream",
     "text": [
      "[{'word': 'face', 'start': 0.0, 'end': 0.47999998927116394}, {'word': 'aerobics', 'start': 0.47999998927116394, 'end': 0.9200000166893005}, {'word': 'to', 'start': 0.9200000166893005, 'end': 1.440000057220459}, {'word': 'go', 'start': 1.440000057220459, 'end': 1.6399999856948853}, {'word': 'and', 'start': 1.6399999856948853, 'end': 2.0}, {'word': 'have', 'start': 2.0, 'end': 2.0199999809265137}, {'word': 'a', 'start': 2.0199999809265137, 'end': 2.259999990463257}, {'word': 'look', 'start': 2.259999990463257, 'end': 2.2799999713897705}, {'word': 'at', 'start': 2.2799999713897705, 'end': 2.440000057220459}, {'word': 'that', 'start': 2.440000057220459, 'end': 2.5999999046325684}, {'word': 'video', 'start': 2.5999999046325684, 'end': 3.0199999809265137}, {'word': 'In', 'start': 4.460000038146973, 'end': 4.539999961853027}, {'word': 'that', 'start': 4.539999961853027, 'end': 4.760000228881836}, {'word': 'video', 'start': 4.760000228881836, 'end': 5.0}, {'word': 'it', 'start': 5.0, 'end': 5.539999961853027}, {'word': 'shows', 'start': 5.539999961853027, 'end': 5.539999961853027}, {'word': 'you', 'start': 5.539999961853027, 'end': 5.71999979019165}, {'word': 'a', 'start': 5.71999979019165, 'end': 6.099999904632568}, {'word': 'number', 'start': 6.099999904632568, 'end': 6.119999885559082}, {'word': 'of', 'start': 6.119999885559082, 'end': 6.820000171661377}, {'word': 'things', 'start': 6.820000171661377, 'end': 6.820000171661377}, {'word': 'The', 'start': 7.739999771118164, 'end': 7.78000020980835}, {'word': 'first', 'start': 7.78000020980835, 'end': 8.020000457763672}, {'word': 'thing', 'start': 8.020000457763672, 'end': 8.15999984741211}, {'word': 'it', 'start': 8.15999984741211, 'end': 8.319999694824219}, {'word': 'shows', 'start': 8.319999694824219, 'end': 8.579999923706055}, {'word': 'you', 'start': 8.579999923706055, 'end': 8.880000114440918}, {'word': 'and', 'start': 8.880000114440918, 'end': 9.239999771118164}, {'word': 'teaches', 'start': 9.239999771118164, 'end': 9.460000038146973}, {'word': 'you', 'start': 9.460000038146973, 'end': 9.720000267028809}, {'word': 'is', 'start': 9.720000267028809, 'end': 10.0}, {'word': 'how', 'start': 10.0, 'end': 10.180000305175781}, {'word': 'much', 'start': 10.180000305175781, 'end': 10.460000038146973}, {'word': 'muscle', 'start': 10.460000038146973, 'end': 10.760000228881836}, {'word': 'effort', 'start': 10.760000228881836, 'end': 11.020000457763672}, {'word': 'to', 'start': 11.020000457763672, 'end': 11.300000190734863}, {'word': 'put', 'start': 11.300000190734863, 'end': 11.380000114440918}, {'word': 'into', 'start': 11.380000114440918, 'end': 11.619999885559082}, {'word': 'the', 'start': 11.619999885559082, 'end': 11.9399995803833}, {'word': 'exercises', 'start': 11.9399995803833, 'end': 12.380000114440918}, {'word': 'So', 'start': 13.039999961853027, 'end': 13.9399995803833}, {'word': 'when', 'start': 13.9399995803833, 'end': 14.079999923706055}, {'word': 'I', 'start': 14.079999923706055, 'end': 14.260000228881836}, {'word': 'do', 'start': 14.260000228881836, 'end': 14.380000114440918}, {'word': 'the', 'start': 14.380000114440918, 'end': 14.720000267028809}, {'word': 'exercises', 'start': 14.720000267028809, 'end': 15.079999923706055}, {'word': 'you', 'start': 15.079999923706055, 'end': 15.399999618530273}, {'word': 'can', 'start': 15.399999618530273, 'end': 15.640000343322754}, {'word': 'see', 'start': 15.640000343322754, 'end': 15.739999771118164}, {'word': 'me', 'start': 15.739999771118164, 'end': 15.979999542236328}, {'word': 'just', 'start': 15.979999542236328, 'end': 16.65999984741211}, {'word': 'lifting', 'start': 16.65999984741211, 'end': 16.860000610351562}, {'word': 'my', 'start': 16.860000610351562, 'end': 17.5}, {'word': 'forehead', 'start': 17.5, 'end': 17.739999771118164}, {'word': 'you', 'start': 18.860000610351562, 'end': 18.860000610351562}, {'word': 'can', 'start': 18.860000610351562, 'end': 19.079999923706055}, {'word': 'see', 'start': 19.079999923706055, 'end': 19.260000228881836}, {'word': 'me', 'start': 19.260000228881836, 'end': 19.540000915527344}, {'word': 'just', 'start': 19.540000915527344, 'end': 20.899999618530273}, {'word': 'lifting', 'start': 20.899999618530273, 'end': 21.239999771118164}, {'word': 'my', 'start': 21.239999771118164, 'end': 21.860000610351562}, {'word': 'cheeks', 'start': 21.860000610351562, 'end': 21.860000610351562}, {'word': 'you', 'start': 22.299999237060547, 'end': 23.959999084472656}, {'word': 'can', 'start': 23.959999084472656, 'end': 24.15999984741211}, {'word': 'see', 'start': 24.15999984741211, 'end': 24.260000228881836}, {'word': 'me', 'start': 24.260000228881836, 'end': 24.420000076293945}, {'word': 'just', 'start': 24.420000076293945, 'end': 24.639999389648438}, {'word': 'going', 'start': 24.639999389648438, 'end': 24.8799991607666}, {'word': 'like', 'start': 24.8799991607666, 'end': 25.15999984741211}, {'word': 'this', 'start': 25.15999984741211, 'end': 25.739999771118164}, {'word': 'okay', 'start': 25.799999237060547, 'end': 26.200000762939453}, {'word': 'And', 'start': 26.3799991607666, 'end': 27.940000534057617}, {'word': 'as', 'start': 27.940000534057617, 'end': 28.139999389648438}, {'word': 'I', 'start': 28.139999389648438, 'end': 28.31999969482422}, {'word': 'do', 'start': 28.31999969482422, 'end': 28.479999542236328}, {'word': 'those', 'start': 28.479999542236328, 'end': 28.739999771118164}, {'word': 'things', 'start': 28.739999771118164, 'end': 28.940000534057617}, {'word': \"I'm\", 'start': 28.940000534057617, 'end': 29.360000610351562}, {'word': 'squeezing', 'start': 29.360000610351562, 'end': 29.68000030517578}, {'word': 'the', 'start': 29.68000030517578, 'end': 30.100000381469727}, {'word': 'muscles', 'start': 30.100000381469727, 'end': 30.100000381469727}, {'word': 'as', 'start': 30.100000381469727, 'end': 30.34000015258789}, {'word': 'I', 'start': 30.34000015258789, 'end': 30.520000457763672}, {'word': 'do', 'start': 30.520000457763672, 'end': 30.719999313354492}, {'word': 'them', 'start': 30.719999313354492, 'end': 31.040000915527344}, {'word': 'okay', 'start': 31.5, 'end': 31.979999542236328}, {'word': \"I'm\", 'start': 32.040000915527344, 'end': 32.58000183105469}, {'word': 'not', 'start': 32.58000183105469, 'end': 32.97999954223633}, {'word': 'going', 'start': 32.97999954223633, 'end': 33.65999984741211}, {'word': 'like', 'start': 33.65999984741211, 'end': 33.900001525878906}, {'word': 'this', 'start': 33.900001525878906, 'end': 34.58000183105469}, {'word': \"I'm\", 'start': 34.58000183105469, 'end': 39.099998474121094}, {'word': 'not', 'start': 39.099998474121094, 'end': 39.31999969482422}, {'word': 'doing', 'start': 39.31999969482422, 'end': 40.08000183105469}, {'word': 'this', 'start': 40.08000183105469, 'end': 40.959999084472656}, {'word': \"I'm\", 'start': 42.68000030517578, 'end': 43.20000076293945}, {'word': 'not', 'start': 43.20000076293945, 'end': 43.47999954223633}, {'word': \"I'm\", 'start': 43.47999954223633, 'end': 44.220001220703125}, {'word': 'not', 'start': 44.220001220703125, 'end': 44.52000045776367}, {'word': 'doing', 'start': 44.52000045776367, 'end': 44.91999816894531}, {'word': 'this', 'start': 44.91999816894531, 'end': 46.0}, {'word': 'okay', 'start': 46.380001068115234, 'end': 47.959999084472656}, {'word': 'And', 'start': 47.959999084472656, 'end': 48.47999954223633}, {'word': 'I', 'start': 48.47999954223633, 'end': 48.599998474121094}, {'word': 'know', 'start': 48.599998474121094, 'end': 48.7400016784668}, {'word': 'my', 'start': 48.7400016784668, 'end': 48.91999816894531}, {'word': 'face', 'start': 48.91999816894531, 'end': 49.15999984741211}, {'word': 'is', 'start': 49.15999984741211, 'end': 49.31999969482422}, {'word': 'already', 'start': 49.31999969482422, 'end': 49.560001373291016}, {'word': 'contorted', 'start': 49.560001373291016, 'end': 49.91999816894531}, {'word': 'and', 'start': 49.91999816894531, 'end': 50.15999984741211}, {'word': 'all', 'start': 50.15999984741211, 'end': 50.29999923706055}, {'word': 'of', 'start': 50.29999923706055, 'end': 50.47999954223633}, {'word': 'that', 'start': 50.47999954223633, 'end': 50.63999938964844}, {'word': 'but', 'start': 50.63999938964844, 'end': 51.0}, {'word': 'I', 'start': 51.0, 'end': 51.15999984741211}, {'word': 'do', 'start': 51.15999984741211, 'end': 51.47999954223633}, {'word': 'know', 'start': 51.47999954223633, 'end': 51.7400016784668}, {'word': 'people', 'start': 51.7400016784668, 'end': 52.119998931884766}, {'word': 'who', 'start': 52.119998931884766, 'end': 52.459999084472656}, {'word': 'do', 'start': 52.459999084472656, 'end': 52.599998474121094}, {'word': 'this', 'start': 52.599998474121094, 'end': 52.97999954223633}, {'word': 'That', 'start': 53.459999084472656, 'end': 54.959999084472656}, {'word': 'is', 'start': 54.959999084472656, 'end': 55.119998931884766}, {'word': 'not', 'start': 55.119998931884766, 'end': 55.29999923706055}, {'word': 'the', 'start': 55.29999923706055, 'end': 55.41999816894531}, {'word': 'way', 'start': 55.41999816894531, 'end': 55.619998931884766}, {'word': 'to', 'start': 55.619998931884766, 'end': 55.779998779296875}, {'word': 'do', 'start': 55.779998779296875, 'end': 56.099998474121094}, {'word': 'face', 'start': 56.099998474121094, 'end': 56.220001220703125}, {'word': 'aerobics', 'start': 56.220001220703125, 'end': 56.86000061035156}, {'word': 'The', 'start': 56.880001068115234, 'end': 57.70000076293945}, {'word': 'way', 'start': 57.70000076293945, 'end': 57.939998626708984}, {'word': 'to', 'start': 57.939998626708984, 'end': 58.099998474121094}, {'word': 'perform', 'start': 58.099998474121094, 'end': 58.400001525878906}, {'word': 'face', 'start': 58.400001525878906, 'end': 58.81999969482422}, {'word': 'aerobics', 'start': 58.81999969482422, 'end': 59.060001373291016}, {'word': 'is', 'start': 59.060001373291016, 'end': 59.400001525878906}, {'word': 'in', 'start': 59.400001525878906, 'end': 59.599998474121094}, {'word': 'this', 'start': 59.599998474121094, 'end': 59.81999969482422}, {'word': 'video', 'start': 59.81999969482422, 'end': 59.97999954223633}]\n"
     ]
    }
   ],
   "source": [
    "words = transcript.words\n",
    "print(words)"
   ]
  },
  {
   "cell_type": "code",
   "execution_count": 7,
   "metadata": {},
   "outputs": [
    {
     "name": "stdout",
     "output_type": "stream",
     "text": [
      "face aerobics to go and have a look at that video In that video it shows you a number of things The first thing it shows you and teaches you is how much muscle effort to put into the exercises So when I do the exercises you can see me just lifting my forehead you can see me just lifting my cheeks you can see me just going like this okay And as I do those things I'm squeezing the muscles as I do them okay I'm not going like this I'm not doing this I'm not I'm not doing this okay And I know my face is already contorted and all of that but I do know people who do this That is not the way to do face aerobics The way to perform face aerobics is in this video "
     ]
    }
   ],
   "source": [
    "sentence = \"\"\n",
    "for word in words:\n",
    "    print(word[\"word\"], end=\" \")\n",
    "    sentence += word[\"word\"] + \" \"\n",
    "sentence = sentence[:-1]\n"
   ]
  },
  {
   "cell_type": "code",
   "execution_count": 8,
   "metadata": {},
   "outputs": [],
   "source": [
    "prompt = \"\"\"\n",
    "You are a subtitle segmenter. Your task is to segment the text enclosed in <<<>>> symbols into short sections based on semantics and pauses, with each section not exceeding 12 words and containing no punctuation. Each segmented subtitle should be presented in the following format:\n",
    "-\n",
    "subtitle text 1\n",
    "-\n",
    "subtitle text 2\n",
    "-\n",
    "Maintain the natural flow of the dialogue and ensure each segment can independently convey a complete meaning. Do not provide any explanations with your outputs. Do not modify any text.\n",
    "\n",
    "\"\"\""
   ]
  },
  {
   "cell_type": "code",
   "execution_count": 57,
   "metadata": {},
   "outputs": [],
   "source": [
    "prompt2 = \"\"\"\n",
    "你是一个字幕匹配器，你的任务是将<<<>>>中包裹的文本，与((()))中包裹的文本进行匹配，确保两者之间的内容相互对应。\n",
    "<<<>>>中包裹的文本是原始文本，((()))中包裹的文本是翻译文本。\n",
    "翻译文本中有符号\"|\"进行分段，请你将翻译文本中的每一个分段都匹配到原始文本中的一个分段。\n",
    "确保不要修改任何文本，原始文本和翻译文本都不允许修改。不要遗漏任何一个字符。不虚要保证原始文本的流畅性。\n",
    "每一个分段应该按照以下格式呈现：\n",
    "---\n",
    "翻译文本 1\n",
    "-\n",
    "原始文本 1\n",
    "---\n",
    "翻译文本 2\n",
    "-\n",
    "原始文本 2\n",
    "---\n",
    "翻译文本 3\n",
    "-\n",
    "原始文本 3\n",
    "---\n",
    "请不要提供任何解释，不要回答任何问题。\n",
    "\"\"\""
   ]
  },
  {
   "cell_type": "code",
   "execution_count": 58,
   "metadata": {},
   "outputs": [],
   "source": [
    "prompt3 = \"\"\"\n",
    "你是一个字幕翻译器，你的任务是翻译被<<<>>>包裹的文本到中文，用流利自然以及地道的中文翻译。使用符号\"|\"进行断句，不允许使用任何其他标点符号。每一个分段不超过15个字。\n",
    "你可以自由的修改调整中文，加入适当的语言表达，以使翻译更加地道，本土化，尽力表达原文的意思。\n",
    "按照以下格式呈现：\n",
    "---\n",
    "中文文本1|中文文本2|中文文本3\n",
    "---\n",
    "\"\"\""
   ]
  },
  {
   "cell_type": "code",
   "execution_count": 59,
   "metadata": {},
   "outputs": [],
   "source": [
    "msg = '面部操去看看那个视频|视频里展示了很多内容|首先教你的是用多少肌肉力量来做练习|当我做练习时|你可以看到我只是抬起额头|你可以看到我只是抬起脸颊|你可以看到我只是这样做|当我做这些动作时|我在挤压肌肉|我不是这样做的|我不是这样做的|我不是这样做的|我知道我的脸已经扭曲了|但我确实认识这样做的人|这不是做面部操的方法|正确的面部操方法在这个视频里'\n",
    "usermsg = \"<<<{}>>>\\n((({})))\".format(sentence,msg)"
   ]
  },
  {
   "cell_type": "code",
   "execution_count": 37,
   "metadata": {},
   "outputs": [],
   "source": [
    "usermsg = \"<<<{}>>>\".format(sentence)"
   ]
  },
  {
   "cell_type": "code",
   "execution_count": 60,
   "metadata": {},
   "outputs": [
    {
     "data": {
      "text/plain": [
       "[{'role': 'system',\n",
       "  'content': '\\n你是一个字幕匹配器，你的任务是将<<<>>>中包裹的文本，与((()))中包裹的文本进行匹配，确保两者之间的内容相互对应。\\n<<<>>>中包裹的文本是原始文本，((()))中包裹的文本是翻译文本。\\n翻译文本中有符号\"|\"进行分段，请你将翻译文本中的每一个分段都匹配到原始文本中的一个分段。\\n确保不要修改任何文本，原始文本和翻译文本都不允许修改。不要遗漏任何一个字符。不虚要保证原始文本的流畅性。\\n每一个分段应该按照以下格式呈现：\\n---\\n翻译文本 1\\n-\\n原始文本 1\\n---\\n翻译文本 2\\n-\\n原始文本 2\\n---\\n翻译文本 3\\n-\\n原始文本 3\\n---\\n请不要提供任何解释，不要回答任何问题。\\n'},\n",
       " {'role': 'user',\n",
       "  'content': \"<<<face aerobics to go and have a look at that video In that video it shows you a number of things The first thing it shows you and teaches you is how much muscle effort to put into the exercises So when I do the exercises you can see me just lifting my forehead you can see me just lifting my cheeks you can see me just going like this okay And as I do those things I'm squeezing the muscles as I do them okay I'm not going like this I'm not doing this I'm not I'm not doing this okay And I know my face is already contorted and all of that but I do know people who do this That is not the way to do face aerobics The way to perform face aerobics is in this video>>>\\n(((面部操去看看那个视频|视频里展示了很多内容|首先教你的是用多少肌肉力量来做练习|当我做练习时|你可以看到我只是抬起额头|你可以看到我只是抬起脸颊|你可以看到我只是这样做|当我做这些动作时|我在挤压肌肉|我不是这样做的|我不是这样做的|我不是这样做的|我知道我的脸已经扭曲了|但我确实认识这样做的人|这不是做面部操的方法|正确的面部操方法在这个视频里)))\"}]"
      ]
     },
     "execution_count": 60,
     "metadata": {},
     "output_type": "execute_result"
    }
   ],
   "source": [
    "# openAI message format\n",
    "message = [\n",
    "    {\"role\": \"system\", \"content\": prompt2},\n",
    "    {\"role\": \"user\", \"content\": usermsg}\n",
    "]\n",
    "message"
   ]
  },
  {
   "cell_type": "code",
   "execution_count": 61,
   "metadata": {},
   "outputs": [],
   "source": [
    "response = gpt.query(message, max_tokens=1000, temperature=0, model=\"gpt-4o\")"
   ]
  },
  {
   "cell_type": "code",
   "execution_count": null,
   "metadata": {},
   "outputs": [],
   "source": []
  },
  {
   "cell_type": "code",
   "execution_count": 62,
   "metadata": {},
   "outputs": [],
   "source": [
    "res_sentences = response[4:-4].split(\"\\n---\\n\")"
   ]
  },
  {
   "cell_type": "code",
   "execution_count": 63,
   "metadata": {},
   "outputs": [
    {
     "data": {
      "text/plain": [
       "['面部操去看看那个视频\\n-\\nface aerobics to go and have a look at that video',\n",
       " '视频里展示了很多内容\\n-\\nIn that video it shows you a number of things',\n",
       " '首先教你的是用多少肌肉力量来做练习\\n-\\nThe first thing it shows you and teaches you is how much muscle effort to put into the exercises',\n",
       " '当我做练习时\\n-\\nSo when I do the exercises',\n",
       " '你可以看到我只是抬起额头\\n-\\nyou can see me just lifting my forehead',\n",
       " '你可以看到我只是抬起脸颊\\n-\\nyou can see me just lifting my cheeks',\n",
       " '你可以看到我只是这样做\\n-\\nyou can see me just going like this',\n",
       " '当我做这些动作时\\n-\\nokay And as I do those things',\n",
       " \"我在挤压肌肉\\n-\\nI'm squeezing the muscles as I do them\",\n",
       " \"我不是这样做的\\n-\\nokay I'm not going like this\",\n",
       " \"我不是这样做的\\n-\\nI'm not doing this\",\n",
       " \"我不是这样做的\\n-\\nI'm not doing this\",\n",
       " '我知道我的脸已经扭曲了\\n-\\nokay And I know my face is already contorted',\n",
       " '但我确实认识这样做的人\\n-\\nand all of that but I do know people who do this',\n",
       " '这不是做面部操的方法\\n-\\nThat is not the way to do face aerobics',\n",
       " '正确的面部操方法在这个视频里\\n-\\nThe way to perform face aerobics is in this video']"
      ]
     },
     "execution_count": 63,
     "metadata": {},
     "output_type": "execute_result"
    }
   ],
   "source": [
    "res_sentences"
   ]
  },
  {
   "cell_type": "code",
   "execution_count": 67,
   "metadata": {},
   "outputs": [
    {
     "name": "stdout",
     "output_type": "stream",
     "text": [
      "['face aerobics to go and have a look at that video', 'In that video it shows you a number of things', 'The first thing it shows you and teaches you is how much muscle effort to put into the exercises', 'So when I do the exercises', 'you can see me just lifting my forehead', 'you can see me just lifting my cheeks', 'you can see me just going like this', 'okay And as I do those things', \"I'm squeezing the muscles as I do them\", \"okay I'm not going like this\", \"I'm not doing this\", \"I'm not doing this\", 'okay And I know my face is already contorted', 'and all of that but I do know people who do this', 'That is not the way to do face aerobics', 'The way to perform face aerobics is in this video']\n"
     ]
    }
   ],
   "source": [
    "res_sentences = response[4:-4].split(\"\\n---\\n\")\n",
    "res_sentences = [x.split(\"\\n-\\n\")[1] for x in res_sentences]\n",
    "print(res_sentences)"
   ]
  },
  {
   "cell_type": "code",
   "execution_count": 69,
   "metadata": {},
   "outputs": [
    {
     "name": "stdout",
     "output_type": "stream",
     "text": [
      "Lengths do not match\n",
      "face aerobics to go and have a look at that video In that video it shows you a number of things The first thing it shows you and teaches you is how much muscle effort to put into the exercises So when I do the exercises you can see me just lifting my forehead you can see me just lifting my cheeks you can see me just going like this okay And as I do those things I'm squeezing the muscles as I do them okay I'm not going like this I'm not doing this I'm not doing this okay And I know my face is already contorted and all of that but I do know people who do this That is not the way to do face aerobics The way to perform face aerobics is in this video\n",
      "face aerobics to go and have a look at that video In that video it shows you a number of things The first thing it shows you and teaches you is how much muscle effort to put into the exercises So when I do the exercises you can see me just lifting my forehead you can see me just lifting my cheeks you can see me just going like this okay And as I do those things I'm squeezing the muscles as I do them okay I'm not going like this I'm not doing this I'm not I'm not doing this okay And I know my face is already contorted and all of that but I do know people who do this That is not the way to do face aerobics The way to perform face aerobics is in this video\n"
     ]
    }
   ],
   "source": [
    "nres = \" \".join(res_sentences)\n",
    "if len(nres) != len(sentence):\n",
    "    print(\"Lengths do not match\")\n",
    "else:\n",
    "    for i in range(len(nres)):\n",
    "        if nres[i] == sentence[i]:\n",
    "            pass\n",
    "        else:\n",
    "            print(nres[i], sentence[i])\n",
    "    print(\"Check complete\") \n",
    "\n",
    "print(nres)\n",
    "print(sentence)"
   ]
  },
  {
   "cell_type": "code",
   "execution_count": 60,
   "metadata": {},
   "outputs": [],
   "source": [
    "orig_word_list = sentence.split()\n",
    "orig_index = 0\n",
    "time_stamps = []\n",
    "sentences = []\n",
    "\n",
    "start = words[orig_index][\"start\"]\n",
    "for res_sent in res_sentences:\n",
    "\n",
    "    orig_index += len(res_sent.split())\n",
    "    if orig_index+1 > len(words):\n",
    "        orig_index -= 1\n",
    "\n",
    "    end = words[orig_index][\"end\"]\n",
    "    \n",
    "    time_stamps.append((start, end))\n",
    "    sentences.append(res_sent)\n",
    "    \n",
    "    start = words[orig_index][\"start\"]\n",
    "\n"
   ]
  },
  {
   "cell_type": "code",
   "execution_count": 61,
   "metadata": {},
   "outputs": [
    {
     "data": {
      "text/plain": [
       "[(0.0, 2.440000057220459),\n",
       " (2.2799999713897705, 5.539999961853027),\n",
       " (5.539999961853027, 8.15999984741211),\n",
       " (8.020000457763672, 10.180000305175781),\n",
       " (10.0, 11.9399995803833),\n",
       " (11.619999885559082, 15.079999923706055),\n",
       " (14.720000267028809, 17.5),\n",
       " (16.860000610351562, 21.239999771118164),\n",
       " (20.899999618530273, 24.600000381469727),\n",
       " (24.420000076293945, 28.31999969482422),\n",
       " (28.15999984741211, 29.979999542236328),\n",
       " (29.8799991607666, 29.979999542236328)]"
      ]
     },
     "execution_count": 61,
     "metadata": {},
     "output_type": "execute_result"
    }
   ],
   "source": [
    "time_stamps"
   ]
  },
  {
   "cell_type": "code",
   "execution_count": 62,
   "metadata": {},
   "outputs": [
    {
     "data": {
      "text/plain": [
       "['face aerobics to go and have a look',\n",
       " 'at that video In that video it',\n",
       " 'shows you a number of things The first',\n",
       " 'thing it shows you and teaches you is',\n",
       " 'how much muscle effort to put into',\n",
       " 'the exercises So when I do the',\n",
       " 'exercises you can see me just lifting',\n",
       " 'my forehead you can see me just',\n",
       " 'lifting my cheeks you can see me',\n",
       " 'just going like this Okay and as',\n",
       " \"I do those things I'm squeezing the\",\n",
       " 'muscle']"
      ]
     },
     "execution_count": 62,
     "metadata": {},
     "output_type": "execute_result"
    }
   ],
   "source": [
    "sentences"
   ]
  },
  {
   "cell_type": "code",
   "execution_count": 63,
   "metadata": {},
   "outputs": [],
   "source": [
    "def time_convert(time):\n",
    "    hours = time // 3600\n",
    "    remain = time % 3600\n",
    "    min = remain // 60\n",
    "    remain = remain % 60\n",
    "    sec = remain // 1\n",
    "    msec = remain % 1\n",
    "    msec = (msec // 0.001)\n",
    "    return (int(hours),int(min),int(sec),int(msec))"
   ]
  },
  {
   "cell_type": "code",
   "execution_count": 64,
   "metadata": {},
   "outputs": [
    {
     "data": {
      "text/plain": [
       "(0, 0, 11, 619)"
      ]
     },
     "execution_count": 64,
     "metadata": {},
     "output_type": "execute_result"
    }
   ],
   "source": [
    "time_convert(time_stamps[5][0])"
   ]
  },
  {
   "cell_type": "code",
   "execution_count": null,
   "metadata": {},
   "outputs": [],
   "source": []
  },
  {
   "cell_type": "code",
   "execution_count": 170,
   "metadata": {},
   "outputs": [],
   "source": [
    "from openai import OpenAI\n",
    "import numpy as np\n",
    "client = OpenAI(api_key=cfg(\"OPENAI_API_KEY_PETER\"))\n",
    "\n",
    "def get_embedding(text, model=\"text-embedding-3-small\"):\n",
    "   text = text.replace(\"\\n\", \" \")\n",
    "   return client.embeddings.create(input = [text], model=model).data[0].embedding"
   ]
  },
  {
   "cell_type": "code",
   "execution_count": null,
   "metadata": {},
   "outputs": [],
   "source": []
  },
  {
   "cell_type": "code",
   "execution_count": 187,
   "metadata": {},
   "outputs": [],
   "source": [
    "tst = \"那个视频在那个视频里它\"\n",
    "tsttt = \"that video In that video it shows you a number of things The first thing it shows you a\""
   ]
  },
  {
   "cell_type": "code",
   "execution_count": 188,
   "metadata": {},
   "outputs": [],
   "source": [
    "tt = get_embedding(tst)\n",
    "tt = np.array(tt)"
   ]
  },
  {
   "cell_type": "code",
   "execution_count": 189,
   "metadata": {},
   "outputs": [
    {
     "name": "stdout",
     "output_type": "stream",
     "text": [
      "that video In that video it shows you a number of things The first thing it shows you\n",
      "that video In that video it shows you a number of things The first thing it shows\n",
      "that video In that video it shows you a number of things The first thing it\n",
      "that video In that video it shows you a number of things The first thing\n",
      "that video In that video it shows you a number of things The first\n",
      "that video In that video it shows you a number of things The\n",
      "that video In that video it shows you a number of things\n",
      "that video In that video it shows you a number of\n",
      "that video In that video it shows you a number\n",
      "that video In that video it shows you a\n",
      "that video In that video it shows you\n",
      "that video In that video it shows\n",
      "that video In that video it\n",
      "that video In that video\n",
      "that video In that\n",
      "that video In\n",
      "that video\n",
      "that\n",
      "-----------------\n",
      "that video In that video it\n",
      "13\n",
      "that video In that video it\n"
     ]
    }
   ],
   "source": [
    "text_list = tsttt.split()\n",
    "value = []\n",
    "lowest = 9999\n",
    "lowest_word = None\n",
    "lowest_index = None\n",
    "for i in range(1,len(text_list)):\n",
    "    sp = str(\" \".join(text_list[:-i]))\n",
    "    print(sp)\n",
    "    emb = get_embedding(sp)\n",
    "    emb = np.array(emb)\n",
    "    diff = np.linalg.norm(tt-emb)\n",
    "    value.append(diff)\n",
    "    if diff < lowest:\n",
    "        lowest = diff\n",
    "        lowest_word = sp\n",
    "        lowest_index = i\n",
    "\n",
    "print(\"-----------------\")\n",
    "print(lowest_word)\n",
    "print(lowest_index)\n",
    "print(\" \".join(text_list[:-lowest_index]))\n",
    "\n"
   ]
  },
  {
   "cell_type": "code",
   "execution_count": null,
   "metadata": {},
   "outputs": [],
   "source": []
  },
  {
   "cell_type": "code",
   "execution_count": null,
   "metadata": {},
   "outputs": [],
   "source": []
  },
  {
   "cell_type": "code",
   "execution_count": null,
   "metadata": {},
   "outputs": [],
   "source": []
  }
 ],
 "metadata": {
  "kernelspec": {
   "display_name": "Python 3",
   "language": "python",
   "name": "python3"
  },
  "language_info": {
   "codemirror_mode": {
    "name": "ipython",
    "version": 3
   },
   "file_extension": ".py",
   "mimetype": "text/x-python",
   "name": "python",
   "nbconvert_exporter": "python",
   "pygments_lexer": "ipython3",
   "version": "3.11.4"
  }
 },
 "nbformat": 4,
 "nbformat_minor": 2
}
