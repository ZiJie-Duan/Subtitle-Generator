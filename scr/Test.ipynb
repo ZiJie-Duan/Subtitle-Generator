{
 "cells": [
  {
   "cell_type": "code",
   "execution_count": 39,
   "metadata": {},
   "outputs": [
    {
     "name": "stdout",
     "output_type": "stream",
     "text": [
      "读取本地配置文件: config.ini\n"
     ]
    }
   ],
   "source": [
    "from basic_tools import *\n",
    "from config import DockerConfig\n",
    "from media import Media\n",
    "from openai_api import GPTApi, WisperApi\n",
    "from subtitle import SubtitleWriter, SubtitleDecoder\n",
    "from media import Media\n",
    "\n",
    "cfg = DockerConfig()\n",
    "gpt = GPTApi(cfg(\"OPENAI_API_KEY_PETER\"))\n",
    "wis = WisperApi(cfg(\"OPENAI_API_KEY_PETER\"))\n",
    "\n"
   ]
  },
  {
   "cell_type": "code",
   "execution_count": 40,
   "metadata": {},
   "outputs": [],
   "source": [
    "md = Media(FilePath(r\"C:\\Users\\lucyc\\Desktop\\How Much Muscle Effort Do I Put Into The Exercises_ - YouTube - Google Chrome 2024-05-02 15-40-54.mp4\"),\n",
    "           SystemCmd())"
   ]
  },
  {
   "cell_type": "code",
   "execution_count": 3,
   "metadata": {},
   "outputs": [
    {
     "name": "stdout",
     "output_type": "stream",
     "text": [
      "ffmpeg -i \"C:\\Users\\lucyc\\Desktop\\How Much Muscle Effort Do I Put Into The Exercises_ - YouTube - Google Chrome 2024-05-02 15-40-54.mp4\" -ss 0 -t 30 -aq 0 -map a \"C:\\Users\\lucyc\\Desktop\\temp.mp3\"\n"
     ]
    }
   ],
   "source": [
    "res = md.get_audio_pice(30)"
   ]
  },
  {
   "cell_type": "code",
   "execution_count": 4,
   "metadata": {},
   "outputs": [],
   "source": [
    "audio_file = open(r\"C:\\Users\\lucyc\\Desktop\\temp.mp3\", \"rb\")\n",
    "transcript = wis.transcribe_timestamp(audio_file)"
   ]
  },
  {
   "cell_type": "code",
   "execution_count": 5,
   "metadata": {},
   "outputs": [
    {
     "name": "stdout",
     "output_type": "stream",
     "text": [
      "Transcription(text=\"face aerobics to go and have a look at that video. In that video it shows you a number of things. The first thing it shows you and teaches you is how much muscle effort to put into the exercises. So when I do the exercises you can see me just lifting my forehead, you can see me just lifting my cheeks, you can see me just going like this. Okay and as I do those things I'm squeezing the muscle.\", task='transcribe', language='english', duration=30.0, words=[{'word': 'face', 'start': 0.0, 'end': 0.47999998927116394}, {'word': 'aerobics', 'start': 0.47999998927116394, 'end': 0.9200000166893005}, {'word': 'to', 'start': 0.9200000166893005, 'end': 1.440000057220459}, {'word': 'go', 'start': 1.440000057220459, 'end': 1.6399999856948853}, {'word': 'and', 'start': 1.6399999856948853, 'end': 2.0}, {'word': 'have', 'start': 2.0, 'end': 2.0199999809265137}, {'word': 'a', 'start': 2.0199999809265137, 'end': 2.259999990463257}, {'word': 'look', 'start': 2.259999990463257, 'end': 2.2799999713897705}, {'word': 'at', 'start': 2.2799999713897705, 'end': 2.440000057220459}, {'word': 'that', 'start': 2.440000057220459, 'end': 2.5999999046325684}, {'word': 'video', 'start': 2.5999999046325684, 'end': 3.0199999809265137}, {'word': 'In', 'start': 4.460000038146973, 'end': 4.539999961853027}, {'word': 'that', 'start': 4.539999961853027, 'end': 4.760000228881836}, {'word': 'video', 'start': 4.760000228881836, 'end': 5.0}, {'word': 'it', 'start': 5.0, 'end': 5.539999961853027}, {'word': 'shows', 'start': 5.539999961853027, 'end': 5.539999961853027}, {'word': 'you', 'start': 5.539999961853027, 'end': 5.71999979019165}, {'word': 'a', 'start': 5.71999979019165, 'end': 6.099999904632568}, {'word': 'number', 'start': 6.099999904632568, 'end': 6.119999885559082}, {'word': 'of', 'start': 6.119999885559082, 'end': 6.820000171661377}, {'word': 'things', 'start': 6.820000171661377, 'end': 6.820000171661377}, {'word': 'The', 'start': 7.739999771118164, 'end': 7.78000020980835}, {'word': 'first', 'start': 7.78000020980835, 'end': 8.020000457763672}, {'word': 'thing', 'start': 8.020000457763672, 'end': 8.15999984741211}, {'word': 'it', 'start': 8.15999984741211, 'end': 8.319999694824219}, {'word': 'shows', 'start': 8.319999694824219, 'end': 8.579999923706055}, {'word': 'you', 'start': 8.579999923706055, 'end': 8.880000114440918}, {'word': 'and', 'start': 8.880000114440918, 'end': 9.239999771118164}, {'word': 'teaches', 'start': 9.239999771118164, 'end': 9.460000038146973}, {'word': 'you', 'start': 9.460000038146973, 'end': 9.720000267028809}, {'word': 'is', 'start': 9.720000267028809, 'end': 10.0}, {'word': 'how', 'start': 10.0, 'end': 10.180000305175781}, {'word': 'much', 'start': 10.180000305175781, 'end': 10.460000038146973}, {'word': 'muscle', 'start': 10.460000038146973, 'end': 10.760000228881836}, {'word': 'effort', 'start': 10.760000228881836, 'end': 11.020000457763672}, {'word': 'to', 'start': 11.020000457763672, 'end': 11.300000190734863}, {'word': 'put', 'start': 11.300000190734863, 'end': 11.380000114440918}, {'word': 'into', 'start': 11.380000114440918, 'end': 11.619999885559082}, {'word': 'the', 'start': 11.619999885559082, 'end': 11.9399995803833}, {'word': 'exercises', 'start': 11.9399995803833, 'end': 12.380000114440918}, {'word': 'So', 'start': 13.039999961853027, 'end': 13.9399995803833}, {'word': 'when', 'start': 13.9399995803833, 'end': 14.079999923706055}, {'word': 'I', 'start': 14.079999923706055, 'end': 14.260000228881836}, {'word': 'do', 'start': 14.260000228881836, 'end': 14.380000114440918}, {'word': 'the', 'start': 14.380000114440918, 'end': 14.720000267028809}, {'word': 'exercises', 'start': 14.720000267028809, 'end': 15.079999923706055}, {'word': 'you', 'start': 15.079999923706055, 'end': 15.399999618530273}, {'word': 'can', 'start': 15.399999618530273, 'end': 15.640000343322754}, {'word': 'see', 'start': 15.640000343322754, 'end': 15.739999771118164}, {'word': 'me', 'start': 15.739999771118164, 'end': 15.979999542236328}, {'word': 'just', 'start': 15.979999542236328, 'end': 16.65999984741211}, {'word': 'lifting', 'start': 16.65999984741211, 'end': 16.860000610351562}, {'word': 'my', 'start': 16.860000610351562, 'end': 17.5}, {'word': 'forehead', 'start': 17.5, 'end': 17.739999771118164}, {'word': 'you', 'start': 18.860000610351562, 'end': 18.860000610351562}, {'word': 'can', 'start': 18.860000610351562, 'end': 19.079999923706055}, {'word': 'see', 'start': 19.079999923706055, 'end': 19.260000228881836}, {'word': 'me', 'start': 19.260000228881836, 'end': 19.540000915527344}, {'word': 'just', 'start': 19.540000915527344, 'end': 20.899999618530273}, {'word': 'lifting', 'start': 20.899999618530273, 'end': 21.239999771118164}, {'word': 'my', 'start': 21.239999771118164, 'end': 21.860000610351562}, {'word': 'cheeks', 'start': 21.860000610351562, 'end': 21.860000610351562}, {'word': 'you', 'start': 22.520000457763672, 'end': 23.959999084472656}, {'word': 'can', 'start': 23.959999084472656, 'end': 24.15999984741211}, {'word': 'see', 'start': 24.15999984741211, 'end': 24.260000228881836}, {'word': 'me', 'start': 24.260000228881836, 'end': 24.420000076293945}, {'word': 'just', 'start': 24.420000076293945, 'end': 24.600000381469727}, {'word': 'going', 'start': 24.600000381469727, 'end': 24.899999618530273}, {'word': 'like', 'start': 24.899999618530273, 'end': 25.15999984741211}, {'word': 'this', 'start': 25.15999984741211, 'end': 25.739999771118164}, {'word': 'Okay', 'start': 26.15999984741211, 'end': 26.15999984741211}, {'word': 'and', 'start': 26.15999984741211, 'end': 27.940000534057617}, {'word': 'as', 'start': 27.940000534057617, 'end': 28.15999984741211}, {'word': 'I', 'start': 28.15999984741211, 'end': 28.31999969482422}, {'word': 'do', 'start': 28.31999969482422, 'end': 28.459999084472656}, {'word': 'those', 'start': 28.459999084472656, 'end': 28.719999313354492}, {'word': 'things', 'start': 28.719999313354492, 'end': 28.959999084472656}, {'word': \"I'm\", 'start': 28.959999084472656, 'end': 29.360000610351562}, {'word': 'squeezing', 'start': 29.360000610351562, 'end': 29.68000030517578}, {'word': 'the', 'start': 29.68000030517578, 'end': 29.8799991607666}, {'word': 'muscle', 'start': 29.8799991607666, 'end': 29.979999542236328}])\n"
     ]
    }
   ],
   "source": [
    "print(transcript)"
   ]
  },
  {
   "cell_type": "code",
   "execution_count": 6,
   "metadata": {},
   "outputs": [
    {
     "name": "stdout",
     "output_type": "stream",
     "text": [
      "[{'word': 'face', 'start': 0.0, 'end': 0.47999998927116394}, {'word': 'aerobics', 'start': 0.47999998927116394, 'end': 0.9200000166893005}, {'word': 'to', 'start': 0.9200000166893005, 'end': 1.440000057220459}, {'word': 'go', 'start': 1.440000057220459, 'end': 1.6399999856948853}, {'word': 'and', 'start': 1.6399999856948853, 'end': 2.0}, {'word': 'have', 'start': 2.0, 'end': 2.0199999809265137}, {'word': 'a', 'start': 2.0199999809265137, 'end': 2.259999990463257}, {'word': 'look', 'start': 2.259999990463257, 'end': 2.2799999713897705}, {'word': 'at', 'start': 2.2799999713897705, 'end': 2.440000057220459}, {'word': 'that', 'start': 2.440000057220459, 'end': 2.5999999046325684}, {'word': 'video', 'start': 2.5999999046325684, 'end': 3.0199999809265137}, {'word': 'In', 'start': 4.460000038146973, 'end': 4.539999961853027}, {'word': 'that', 'start': 4.539999961853027, 'end': 4.760000228881836}, {'word': 'video', 'start': 4.760000228881836, 'end': 5.0}, {'word': 'it', 'start': 5.0, 'end': 5.539999961853027}, {'word': 'shows', 'start': 5.539999961853027, 'end': 5.539999961853027}, {'word': 'you', 'start': 5.539999961853027, 'end': 5.71999979019165}, {'word': 'a', 'start': 5.71999979019165, 'end': 6.099999904632568}, {'word': 'number', 'start': 6.099999904632568, 'end': 6.119999885559082}, {'word': 'of', 'start': 6.119999885559082, 'end': 6.820000171661377}, {'word': 'things', 'start': 6.820000171661377, 'end': 6.820000171661377}, {'word': 'The', 'start': 7.739999771118164, 'end': 7.78000020980835}, {'word': 'first', 'start': 7.78000020980835, 'end': 8.020000457763672}, {'word': 'thing', 'start': 8.020000457763672, 'end': 8.15999984741211}, {'word': 'it', 'start': 8.15999984741211, 'end': 8.319999694824219}, {'word': 'shows', 'start': 8.319999694824219, 'end': 8.579999923706055}, {'word': 'you', 'start': 8.579999923706055, 'end': 8.880000114440918}, {'word': 'and', 'start': 8.880000114440918, 'end': 9.239999771118164}, {'word': 'teaches', 'start': 9.239999771118164, 'end': 9.460000038146973}, {'word': 'you', 'start': 9.460000038146973, 'end': 9.720000267028809}, {'word': 'is', 'start': 9.720000267028809, 'end': 10.0}, {'word': 'how', 'start': 10.0, 'end': 10.180000305175781}, {'word': 'much', 'start': 10.180000305175781, 'end': 10.460000038146973}, {'word': 'muscle', 'start': 10.460000038146973, 'end': 10.760000228881836}, {'word': 'effort', 'start': 10.760000228881836, 'end': 11.020000457763672}, {'word': 'to', 'start': 11.020000457763672, 'end': 11.300000190734863}, {'word': 'put', 'start': 11.300000190734863, 'end': 11.380000114440918}, {'word': 'into', 'start': 11.380000114440918, 'end': 11.619999885559082}, {'word': 'the', 'start': 11.619999885559082, 'end': 11.9399995803833}, {'word': 'exercises', 'start': 11.9399995803833, 'end': 12.380000114440918}, {'word': 'So', 'start': 13.039999961853027, 'end': 13.9399995803833}, {'word': 'when', 'start': 13.9399995803833, 'end': 14.079999923706055}, {'word': 'I', 'start': 14.079999923706055, 'end': 14.260000228881836}, {'word': 'do', 'start': 14.260000228881836, 'end': 14.380000114440918}, {'word': 'the', 'start': 14.380000114440918, 'end': 14.720000267028809}, {'word': 'exercises', 'start': 14.720000267028809, 'end': 15.079999923706055}, {'word': 'you', 'start': 15.079999923706055, 'end': 15.399999618530273}, {'word': 'can', 'start': 15.399999618530273, 'end': 15.640000343322754}, {'word': 'see', 'start': 15.640000343322754, 'end': 15.739999771118164}, {'word': 'me', 'start': 15.739999771118164, 'end': 15.979999542236328}, {'word': 'just', 'start': 15.979999542236328, 'end': 16.65999984741211}, {'word': 'lifting', 'start': 16.65999984741211, 'end': 16.860000610351562}, {'word': 'my', 'start': 16.860000610351562, 'end': 17.5}, {'word': 'forehead', 'start': 17.5, 'end': 17.739999771118164}, {'word': 'you', 'start': 18.860000610351562, 'end': 18.860000610351562}, {'word': 'can', 'start': 18.860000610351562, 'end': 19.079999923706055}, {'word': 'see', 'start': 19.079999923706055, 'end': 19.260000228881836}, {'word': 'me', 'start': 19.260000228881836, 'end': 19.540000915527344}, {'word': 'just', 'start': 19.540000915527344, 'end': 20.899999618530273}, {'word': 'lifting', 'start': 20.899999618530273, 'end': 21.239999771118164}, {'word': 'my', 'start': 21.239999771118164, 'end': 21.860000610351562}, {'word': 'cheeks', 'start': 21.860000610351562, 'end': 21.860000610351562}, {'word': 'you', 'start': 22.520000457763672, 'end': 23.959999084472656}, {'word': 'can', 'start': 23.959999084472656, 'end': 24.15999984741211}, {'word': 'see', 'start': 24.15999984741211, 'end': 24.260000228881836}, {'word': 'me', 'start': 24.260000228881836, 'end': 24.420000076293945}, {'word': 'just', 'start': 24.420000076293945, 'end': 24.600000381469727}, {'word': 'going', 'start': 24.600000381469727, 'end': 24.899999618530273}, {'word': 'like', 'start': 24.899999618530273, 'end': 25.15999984741211}, {'word': 'this', 'start': 25.15999984741211, 'end': 25.739999771118164}, {'word': 'Okay', 'start': 26.15999984741211, 'end': 26.15999984741211}, {'word': 'and', 'start': 26.15999984741211, 'end': 27.940000534057617}, {'word': 'as', 'start': 27.940000534057617, 'end': 28.15999984741211}, {'word': 'I', 'start': 28.15999984741211, 'end': 28.31999969482422}, {'word': 'do', 'start': 28.31999969482422, 'end': 28.459999084472656}, {'word': 'those', 'start': 28.459999084472656, 'end': 28.719999313354492}, {'word': 'things', 'start': 28.719999313354492, 'end': 28.959999084472656}, {'word': \"I'm\", 'start': 28.959999084472656, 'end': 29.360000610351562}, {'word': 'squeezing', 'start': 29.360000610351562, 'end': 29.68000030517578}, {'word': 'the', 'start': 29.68000030517578, 'end': 29.8799991607666}, {'word': 'muscle', 'start': 29.8799991607666, 'end': 29.979999542236328}]\n"
     ]
    }
   ],
   "source": [
    "words = transcript.words\n",
    "print(words)"
   ]
  },
  {
   "cell_type": "code",
   "execution_count": 7,
   "metadata": {},
   "outputs": [
    {
     "name": "stdout",
     "output_type": "stream",
     "text": [
      "face aerobics to go and have a look at that video In that video it shows you a number of things The first thing it shows you and teaches you is how much muscle effort to put into the exercises So when I do the exercises you can see me just lifting my forehead you can see me just lifting my cheeks you can see me just going like this Okay and as I do those things I'm squeezing the muscle "
     ]
    }
   ],
   "source": [
    "sentence = \"\"\n",
    "for word in words:\n",
    "    print(word[\"word\"], end=\" \")\n",
    "    sentence += word[\"word\"] + \" \"\n",
    "sentence = sentence[:-1]\n"
   ]
  },
  {
   "cell_type": "code",
   "execution_count": 53,
   "metadata": {},
   "outputs": [],
   "source": [
    "prompt = \"\"\"\n",
    "You are a subtitle segmenter. Your task is to segment the text enclosed in <<<>>> symbols into short sections based on semantics and pauses, with each section not exceeding 12 words and containing no punctuation. Each segmented subtitle should be presented in the following format:\n",
    "-\n",
    "subtitle text 1\n",
    "-\n",
    "subtitle text 2\n",
    "-\n",
    "Maintain the natural flow of the dialogue and ensure each segment can independently convey a complete meaning. Do not provide any explanations with your outputs. Do not modify any text.\n",
    "\n",
    "\"\"\""
   ]
  },
  {
   "cell_type": "code",
   "execution_count": 54,
   "metadata": {},
   "outputs": [],
   "source": [
    "usermsg = \"<<<{}>>>\".format(sentence)"
   ]
  },
  {
   "cell_type": "code",
   "execution_count": 55,
   "metadata": {},
   "outputs": [
    {
     "data": {
      "text/plain": [
       "[{'role': 'system',\n",
       "  'content': '\\nYou are a subtitle segmenter. Your task is to segment the text enclosed in <<<>>> symbols into short sections based on semantics and pauses, with each section not exceeding 12 words and containing no punctuation. Each segmented subtitle should be presented in the following format:\\n-\\nsubtitle text 1\\n-\\nsubtitle text 2\\n-\\nMaintain the natural flow of the dialogue and ensure each segment can independently convey a complete meaning. Do not provide any explanations with your outputs. Do not modify any text.\\n\\n'},\n",
       " {'role': 'user',\n",
       "  'content': \"<<<face aerobics to go and have a look at that video In that video it shows you a number of things The first thing it shows you and teaches you is how much muscle effort to put into the exercises So when I do the exercises you can see me just lifting my forehead you can see me just lifting my cheeks you can see me just going like this Okay and as I do those things I'm squeezing the muscle>>>\"}]"
      ]
     },
     "execution_count": 55,
     "metadata": {},
     "output_type": "execute_result"
    }
   ],
   "source": [
    "# openAI message format\n",
    "message = [\n",
    "    {\"role\": \"system\", \"content\": prompt},\n",
    "    {\"role\": \"user\", \"content\": usermsg}\n",
    "]\n",
    "message"
   ]
  },
  {
   "cell_type": "code",
   "execution_count": 56,
   "metadata": {},
   "outputs": [],
   "source": [
    "response = gpt.query(message, max_tokens=1000, temperature=0, model=\"gpt-4o\")"
   ]
  },
  {
   "cell_type": "code",
   "execution_count": 57,
   "metadata": {},
   "outputs": [],
   "source": [
    "res_sentences = response[2:-2].split(\"\\n-\\n\")"
   ]
  },
  {
   "cell_type": "code",
   "execution_count": 58,
   "metadata": {},
   "outputs": [
    {
     "data": {
      "text/plain": [
       "['face aerobics to go and have a look',\n",
       " 'at that video In that video it',\n",
       " 'shows you a number of things The first',\n",
       " 'thing it shows you and teaches you is',\n",
       " 'how much muscle effort to put into',\n",
       " 'the exercises So when I do the',\n",
       " 'exercises you can see me just lifting',\n",
       " 'my forehead you can see me just',\n",
       " 'lifting my cheeks you can see me',\n",
       " 'just going like this Okay and as',\n",
       " \"I do those things I'm squeezing the\",\n",
       " 'muscle']"
      ]
     },
     "execution_count": 58,
     "metadata": {},
     "output_type": "execute_result"
    }
   ],
   "source": [
    "res_sentences"
   ]
  },
  {
   "cell_type": "code",
   "execution_count": 59,
   "metadata": {},
   "outputs": [
    {
     "name": "stdout",
     "output_type": "stream",
     "text": [
      "Check complete\n"
     ]
    }
   ],
   "source": [
    "nres = \" \".join(res_sentences)\n",
    "if len(nres) != len(sentence):\n",
    "    print(\"Lengths do not match\")\n",
    "else:\n",
    "    for i in range(len(nres)):\n",
    "        if nres[i] == sentence[i]:\n",
    "            pass\n",
    "        else:\n",
    "            print(nres[i], sentence[i])\n",
    "    print(\"Check complete\") \n"
   ]
  },
  {
   "cell_type": "code",
   "execution_count": 60,
   "metadata": {},
   "outputs": [],
   "source": [
    "orig_word_list = sentence.split()\n",
    "orig_index = 0\n",
    "time_stamps = []\n",
    "sentences = []\n",
    "\n",
    "start = words[orig_index][\"start\"]\n",
    "for res_sent in res_sentences:\n",
    "\n",
    "    orig_index += len(res_sent.split())\n",
    "    if orig_index+1 > len(words):\n",
    "        orig_index -= 1\n",
    "\n",
    "    end = words[orig_index][\"end\"]\n",
    "    time_stamps.append((start, end))\n",
    "    sentences.append(res_sent)\n",
    "    \n",
    "    start = words[orig_index][\"start\"]\n",
    "\n"
   ]
  },
  {
   "cell_type": "code",
   "execution_count": 61,
   "metadata": {},
   "outputs": [
    {
     "data": {
      "text/plain": [
       "[(0.0, 2.440000057220459),\n",
       " (2.2799999713897705, 5.539999961853027),\n",
       " (5.539999961853027, 8.15999984741211),\n",
       " (8.020000457763672, 10.180000305175781),\n",
       " (10.0, 11.9399995803833),\n",
       " (11.619999885559082, 15.079999923706055),\n",
       " (14.720000267028809, 17.5),\n",
       " (16.860000610351562, 21.239999771118164),\n",
       " (20.899999618530273, 24.600000381469727),\n",
       " (24.420000076293945, 28.31999969482422),\n",
       " (28.15999984741211, 29.979999542236328),\n",
       " (29.8799991607666, 29.979999542236328)]"
      ]
     },
     "execution_count": 61,
     "metadata": {},
     "output_type": "execute_result"
    }
   ],
   "source": [
    "time_stamps"
   ]
  },
  {
   "cell_type": "code",
   "execution_count": 62,
   "metadata": {},
   "outputs": [
    {
     "data": {
      "text/plain": [
       "['face aerobics to go and have a look',\n",
       " 'at that video In that video it',\n",
       " 'shows you a number of things The first',\n",
       " 'thing it shows you and teaches you is',\n",
       " 'how much muscle effort to put into',\n",
       " 'the exercises So when I do the',\n",
       " 'exercises you can see me just lifting',\n",
       " 'my forehead you can see me just',\n",
       " 'lifting my cheeks you can see me',\n",
       " 'just going like this Okay and as',\n",
       " \"I do those things I'm squeezing the\",\n",
       " 'muscle']"
      ]
     },
     "execution_count": 62,
     "metadata": {},
     "output_type": "execute_result"
    }
   ],
   "source": [
    "sentences"
   ]
  },
  {
   "cell_type": "code",
   "execution_count": 63,
   "metadata": {},
   "outputs": [],
   "source": [
    "def time_convert(time):\n",
    "    hours = time // 3600\n",
    "    remain = time % 3600\n",
    "    min = remain // 60\n",
    "    remain = remain % 60\n",
    "    sec = remain // 1\n",
    "    msec = remain % 1\n",
    "    msec = (msec // 0.001)\n",
    "    return (int(hours),int(min),int(sec),int(msec))"
   ]
  },
  {
   "cell_type": "code",
   "execution_count": 64,
   "metadata": {},
   "outputs": [
    {
     "data": {
      "text/plain": [
       "(0, 0, 11, 619)"
      ]
     },
     "execution_count": 64,
     "metadata": {},
     "output_type": "execute_result"
    }
   ],
   "source": [
    "time_convert(time_stamps[5][0])"
   ]
  },
  {
   "cell_type": "code",
   "execution_count": null,
   "metadata": {},
   "outputs": [],
   "source": []
  },
  {
   "cell_type": "code",
   "execution_count": null,
   "metadata": {},
   "outputs": [],
   "source": []
  },
  {
   "cell_type": "code",
   "execution_count": null,
   "metadata": {},
   "outputs": [],
   "source": [
    "class WHISPER_DRIVER:\n",
    "\n",
    "    def __init__(self) -> None:\n",
    "        self.model = None\n",
    "        self.result = None\n",
    "        self.num_of_sentence = 0\n",
    "        self.sentence_index = 0\n",
    "\n",
    "    def model_load(self,model = \"tiny.en\"):\n",
    "        self.model = whisper.load_model(model)\n",
    "     \n",
    "    def transcribe(self,file_path):\n",
    "        self.result = self.model.transcribe(file_path,verbose=True)\n",
    "    \n",
    "    def get_result(self):\n",
    "        return self.result\n",
    "\n",
    "    def init_reader(self):\n",
    "        self.num_of_sentence = len(self.result[\"segments\"])\n",
    "        self.sentence_index = -1\n",
    "    \n",
    "    def time_convert(self,time):\n",
    "        hours = time // 3600\n",
    "        remain = time % 3600\n",
    "        min = remain // 60\n",
    "        remain = remain % 60\n",
    "        sec = remain // 1\n",
    "        msec = remain % 1\n",
    "        msec = (msec // 0.001)\n",
    "        return (int(hours),int(min),int(sec),int(msec))\n",
    "\n",
    "    def get_sentence(self):\n",
    "        self.sentence_index += 1\n",
    "        if self.sentence_index < self.num_of_sentence:\n",
    "            return (self.time_convert(self.result[\"segments\"][self.sentence_index][\"start\"]),\\\n",
    "                    self.time_convert(self.result[\"segments\"][self.sentence_index][\"end\"]),\\\n",
    "                    self.result[\"segments\"][self.sentence_index][\"text\"])\n",
    "        else:\n",
    "            return (None,None,None)\n",
    "        "
   ]
  },
  {
   "cell_type": "code",
   "execution_count": 1,
   "metadata": {},
   "outputs": [],
   "source": [
    "def build_shift_table(pattern):\n",
    "    \"\"\"构建移位表，用于跳过尽可能多的无效字符位置\"\"\"\n",
    "    m = len(pattern)\n",
    "    table = {ch: m for ch in pattern}\n",
    "    for i in range(m - 1):\n",
    "        table[pattern[i]] = m - 1 - i\n",
    "    return table"
   ]
  },
  {
   "cell_type": "code",
   "execution_count": 7,
   "metadata": {},
   "outputs": [
    {
     "name": "stdout",
     "output_type": "stream",
     "text": [
      "{'h': 4, 'e': 3, 'l': 1, 'o': 5}\n"
     ]
    }
   ],
   "source": [
    "tb = build_shift_table(\"hello\")\n",
    "print(tb)"
   ]
  },
  {
   "cell_type": "code",
   "execution_count": null,
   "metadata": {},
   "outputs": [],
   "source": [
    "\n",
    "\n",
    "\"\"\"ArithmeticError\n",
    "\n",
    "\"\"\""
   ]
  }
 ],
 "metadata": {
  "kernelspec": {
   "display_name": "Python 3",
   "language": "python",
   "name": "python3"
  },
  "language_info": {
   "codemirror_mode": {
    "name": "ipython",
    "version": 3
   },
   "file_extension": ".py",
   "mimetype": "text/x-python",
   "name": "python",
   "nbconvert_exporter": "python",
   "pygments_lexer": "ipython3",
   "version": "3.11.4"
  }
 },
 "nbformat": 4,
 "nbformat_minor": 2
}
