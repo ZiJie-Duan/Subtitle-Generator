{
 "cells": [
  {
   "cell_type": "code",
   "execution_count": null,
   "metadata": {},
   "outputs": [],
   "source": [
    "from basic_tools import *\n",
    "from config import DockerConfig\n",
    "from media import Media\n",
    "from openai_api import GPTApi, WisperApi\n",
    "from subtitle import SubtitleWriter, SubtitleDecoder\n",
    "from media import Media\n",
    "\n",
    "cfg = DockerConfig()\n",
    "gpt = GPTApi(cfg(\"OPENAI_API_KEY_PETER\"))\n",
    "wis = WisperApi(cfg(\"OPENAI_API_KEY_PETER\"))"
   ]
  },
  {
   "cell_type": "code",
   "execution_count": null,
   "metadata": {},
   "outputs": [],
   "source": [
    "md = Media(FilePath(r\"E:\\电影\\奥本海默 (1).mp4\"),\n",
    "           SystemCmd())"
   ]
  },
  {
   "cell_type": "code",
   "execution_count": null,
   "metadata": {},
   "outputs": [],
   "source": [
    "res = md.get_audio_pice(300)"
   ]
  },
  {
   "cell_type": "code",
   "execution_count": null,
   "metadata": {},
   "outputs": [],
   "source": [
    "audio_file = open(r\"E:\\电影\\temp.mp3\", \"rb\")\n",
    "transcript = wis.transcribe_timestamp(audio_file)"
   ]
  },
  {
   "cell_type": "code",
   "execution_count": null,
   "metadata": {},
   "outputs": [],
   "source": [
    "\n",
    "def levenshtein_distance(s1, s2):\n",
    "    if len(s1) < len(s2):\n",
    "        return levenshtein_distance(s2, s1)\n",
    "\n",
    "    if len(s2) == 0:\n",
    "        return len(s1)\n",
    "\n",
    "    previous_row = range(len(s2) + 1)\n",
    "    for i, c1 in enumerate(s1):\n",
    "        current_row = [i + 1]\n",
    "        for j, c2 in enumerate(s2):\n",
    "            insertions = previous_row[j + 1] + 1\n",
    "            deletions = current_row[j] + 1\n",
    "            substitutions = previous_row[j] + (c1 != c2)\n",
    "            current_row.append(min(insertions, deletions, substitutions))\n",
    "        previous_row = current_row\n",
    "\n",
    "    return previous_row[-1]\n",
    "\n",
    "\n",
    "def match_sentence(short_sentence, long_sentence):\n",
    "    print(\"DEBUG MATCH SENTENCE\")\n",
    "    print(short_sentence)\n",
    "    print(long_sentence)\n",
    "    short_sentence = short_sentence.replace(\" \", \"\")\n",
    "    words = long_sentence.split(\" \")\n",
    "    min_dis = 9999999\n",
    "    match_index = None\n",
    "\n",
    "    for i in range(1, len(words)+1):\n",
    "        print(\"MATCH {}, {}\".format(short_sentence, \"\".join(words[0:i])))\n",
    "        dis = levenshtein_distance(short_sentence, \"\".join(words[0:i]))\n",
    "        if dis <= min_dis:\n",
    "            min_dis = dis\n",
    "            match_index = i\n",
    "    \n",
    "    return match_index-1, \" \".join(words[0:match_index])"
   ]
  },
  {
   "cell_type": "code",
   "execution_count": null,
   "metadata": {},
   "outputs": [],
   "source": [
    "依赖周期崩溃崩溃捕捉"
   ]
  }
 ],
 "metadata": {
  "language_info": {
   "name": "python"
  }
 },
 "nbformat": 4,
 "nbformat_minor": 2
}
