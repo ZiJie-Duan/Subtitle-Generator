{
 "cells": [
  {
   "cell_type": "code",
   "execution_count": null,
   "metadata": {},
   "outputs": [],
   "source": []
  },
  {
   "cell_type": "code",
   "execution_count": 1,
   "metadata": {},
   "outputs": [
    {
     "name": "stdout",
     "output_type": "stream",
     "text": [
      "读取本地配置文件: config.ini\n"
     ]
    }
   ],
   "source": [
    "from basic_tools import *\n",
    "from config import DockerConfig\n",
    "from media import Media\n",
    "from openai_api import GPTApi, WisperApi\n",
    "from subtitle import SubtitleWriter, SubtitleDecoder\n",
    "from media import Media\n",
    "\n",
    "cfg = DockerConfig()\n",
    "gpt = GPTApi(cfg(\"OPENAI_API_KEY_PETER\"))\n",
    "wis = WisperApi(cfg(\"OPENAI_API_KEY_PETER\"))"
   ]
  },
  {
   "cell_type": "code",
   "execution_count": 2,
   "metadata": {},
   "outputs": [],
   "source": [
    "\n",
    "def gpt_split_sentence_translation(gpt: GPTApi, text: str, language: str):\n",
    "\n",
    "    prompt_translation = \"\"\"\n",
    "You are a professional translator proficient in multiple languages. Your task is to translate the text enclosed by <<<>>> into {}, achieving the most natural and fluent translation possible.\n",
    "Present in the following format:\n",
    "---\n",
    "example translated paragraph\n",
    "---\n",
    "\"\"\".format(language, language)\n",
    "\n",
    "    prompt_split = \"\"\"\n",
    "You are a subtitle segmenter. Your task is to segment the text enclosed in <<<>>> symbols into short sections based on semantics and pauses, with each section not exceeding 12 words and containing no punctuation. Each segmented subtitle should be presented in the following format:\n",
    "---\n",
    "example subtitle text 1\n",
    "---\n",
    "example subtitle text 2\n",
    "---\n",
    "Maintain the natural flow of the dialogue and ensure each segment can independently convey a complete meaning. Do not provide any explanations with your outputs. Do not modify any text. \n",
    "    \"\"\"\n",
    "\n",
    "    prompt_match2 = \"\"\"\n",
    "Your task is to match sentences in two different languages that have the same meaning. The final output should be segmented results in both languages, matched in the specified format.\n",
    "\n",
    "Text within <<<>>> contains fixed text, segmented by \"|\".\n",
    "Text within ((( ))) contains text to be matched, without separators.\n",
    "Match each segment of the fixed text with the most accurate segment from the text to be matched, ensuring the best possible meaning match. Ensure a one-to-one correspondence as much as possible. Match the text to be matched in sequence. Each fixed text segment must be matched with one segment from the text to be matched, leaving no segments unmatched.\n",
    "\n",
    "Each segment should be presented in the following format:\n",
    "---\n",
    "example fixed text 1\n",
    "-\n",
    "example matched text 1\n",
    "---\n",
    "example fixed text 2\n",
    "-\n",
    "example matched text 2\n",
    "---\n",
    "Please do not provide any explanations and do not answer any questions.\n",
    "\"\"\"\n",
    "\n",
    "    prompt_match = \"\"\"\n",
    "Your task is to match sentences in two different languages that have the same meaning. The final output should be segmented results in both languages, matched in the specified format.\n",
    "\n",
    "Text within <<<>>> contains fixed text, segmented by \"|\".\n",
    "Text within ((( ))) contains text to be matched, without separators.\n",
    "Match each segment of the fixed text with the most accurate segment from the text to be matched, ensuring the best possible meaning match. Multiple segments can be matched with each other, but aim for one-to-one correspondence as much as possible. Try to match the text to be matched in sequence.\n",
    "\n",
    "Each segment should be presented in the following format:\n",
    "---\n",
    "example fixed text 1\n",
    "-\n",
    "example matched text 1\n",
    "---\n",
    "example fixed text 2\n",
    "-\n",
    "example matched text 2\n",
    "---\n",
    "Please do not provide any explanations and do not answer any questions.\n",
    "\"\"\"\n",
    "    success = False\n",
    "    #print(\"DEBUG 原文: \", text)\n",
    "    for i in range(5):\n",
    "        try:\n",
    "            usermsg = \"<<<{}>>>\".format(text)\n",
    "            message = [\n",
    "                {\"role\": \"system\", \"content\": prompt_translation},\n",
    "                {\"role\": \"user\", \"content\": usermsg}\n",
    "            ]\n",
    "            response = gpt.query(message, max_tokens=4000, temperature=0.2, model=\"gpt-4o\", timeout=120)\n",
    "            sentences = response[4:-4]\n",
    "            #print(\"DEBUG stc: \", sentences)\n",
    "\n",
    "            usermsg = \"<<<{}>>>\".format(sentences)\n",
    "            message = [\n",
    "                {\"role\": \"system\", \"content\": prompt_split},\n",
    "                {\"role\": \"user\", \"content\": usermsg}\n",
    "            ]\n",
    "            response = gpt.query(message, max_tokens=4000, temperature=0, model=\"gpt-4o\", timeout=120)\n",
    "            sentences = response[4:-4].split(\"\\n---\\n\")\n",
    "            #print(\"DEBUG stc: \", sentences)\n",
    "\n",
    "            usermsg = \"<<<{}>>> \\n((({})))\".format(\"|\".join(sentences), text)\n",
    "            message = [\n",
    "                {\"role\": \"system\", \"content\": prompt_match},\n",
    "                {\"role\": \"user\", \"content\": usermsg}\n",
    "            ]\n",
    "            response = gpt.query(message, max_tokens=4000, temperature=0, model=\"gpt-4o\", timeout=120)\n",
    "            sentences = response[4:-4].split(\"\\n---\\n\")\n",
    "            #print(\"DEBUG stc: \", sentences)\n",
    "            sentences = [x.split(\"\\n-\\n\") for x in sentences]\n",
    "            translation = [x[0] for x in sentences]\n",
    "            match_only = [x[1] for x in sentences]\n",
    "\n",
    "            success = True\n",
    "            break\n",
    "        except Exception as e:\n",
    "            print(\"[gpt_split_sentence_translation]: GPT-4o Invalid Response.\")\n",
    "            print(\"[gpt_split_sentence_translation]: Retry {} times.\".format(i+1))\n",
    "            print(\"[gpt_split_sentence_translation]: Error : {}\".format(str(e)))\n",
    "            continue\n",
    "    \n",
    "    if not success:\n",
    "        print(\"[gpt_split_sentence_translation]: GPT-4o Invalid Response.\")\n",
    "        print(\"[gpt_split_sentence_translation]: Please Check Your Network.\")\n",
    "        print(\"[gpt_split_sentence_translation]: Exit.\")\n",
    "        input(\"Press Enter to Exit...\")\n",
    "        exit(0)\n",
    "\n",
    "    # print(\"DEBUG 原文: \", text)\n",
    "    # print(\"DEBUG 翻译: \", translation)\n",
    "    # print(\"DEBUG 匹配: \", match_only)\n",
    "\n",
    "    return translation, match_only"
   ]
  },
  {
   "cell_type": "code",
   "execution_count": 3,
   "metadata": {},
   "outputs": [],
   "source": [
    "pathFile = FilePath(r\"C:\\Users\\lucyc\\Videos\\Captures\\【日韓交流】５年ぶりの対面交流会　“歴史問題”苦い思い出も　愛知・刈谷市 - YouTube - Google Chrome 2024-05-25 05-08-41.mp4\")"
   ]
  },
  {
   "cell_type": "code",
   "execution_count": 4,
   "metadata": {},
   "outputs": [],
   "source": [
    "md = Media(pathFile,\n",
    "           SystemCmd())"
   ]
  },
  {
   "cell_type": "code",
   "execution_count": 5,
   "metadata": {},
   "outputs": [],
   "source": [
    "md.split_start = 100\n",
    "res = md.get_audio_pice(120)"
   ]
  },
  {
   "cell_type": "code",
   "execution_count": 6,
   "metadata": {},
   "outputs": [],
   "source": [
    "audio_file = open(pathFile.nfile(full_name=\"temp.mp3\")(), \"rb\")\n",
    "transcript = wis.transcribe_timestamp(audio_file)"
   ]
  },
  {
   "cell_type": "code",
   "execution_count": 7,
   "metadata": {},
   "outputs": [
    {
     "data": {
      "text/plain": [
       "Transcription(text='日本の部活動体験では、作動部でお茶の立て方などを体験していたのですが こうした体験や生徒同士が積極的にコミュニケーションを取ることが、この交流会の狙いだといいます。 日本と韓国の若い世代が、お互いの国を考える交流会。 そして今、トップ同士の交流では、    日韓関係が大きく動き出しています。 日本と韓国の両首脳は、お互いの国を訪れるシャトル外交を12年ぶりに再開。 そこで、いわゆる元徴用工問題などの歴史問題の解決よりも、 未来に向けた協力を優先すべきと発言しました。 今回の交流会に参加したカリアキタ高校のヨツハさん。 家族で韓国に行ったとき、現地の人たちに    ', task='transcribe', language='japanese', duration=120.0, words=[{'word': '日本', 'start': 0.0, 'end': 0.41999998688697815}, {'word': 'の', 'start': 0.41999998688697815, 'end': 0.7799999713897705}, {'word': '部', 'start': 0.7799999713897705, 'end': 1.0}, {'word': '活', 'start': 1.0, 'end': 1.1399999856948853}, {'word': '動', 'start': 1.1399999856948853, 'end': 1.2999999523162842}, {'word': '体', 'start': 1.2999999523162842, 'end': 1.6799999475479126}, {'word': '験', 'start': 1.6799999475479126, 'end': 1.7000000476837158}, {'word': 'では、', 'start': 1.7000000476837158, 'end': 2.140000104904175}, {'word': '作', 'start': 2.680000066757202, 'end': 2.680000066757202}, {'word': '動', 'start': 2.680000066757202, 'end': 2.799999952316284}, {'word': '部', 'start': 2.799999952316284, 'end': 2.9000000953674316}, {'word': 'で', 'start': 2.9000000953674316, 'end': 3.2799999713897705}, {'word': 'お', 'start': 3.2799999713897705, 'end': 3.4800000190734863}, {'word': '茶', 'start': 3.4800000190734863, 'end': 3.4800000190734863}, {'word': 'の', 'start': 3.4800000190734863, 'end': 3.8399999141693115}, {'word': '立', 'start': 3.8399999141693115, 'end': 3.8399999141693115}, {'word': 'て', 'start': 3.8399999141693115, 'end': 4.079999923706055}, {'word': '方', 'start': 4.079999923706055, 'end': 4.159999847412109}, {'word': 'な', 'start': 4.159999847412109, 'end': 4.340000152587891}, {'word': 'ど', 'start': 4.340000152587891, 'end': 4.460000038146973}, {'word': 'を', 'start': 4.460000038146973, 'end': 4.78000020980835}, {'word': '体', 'start': 4.78000020980835, 'end': 4.900000095367432}, {'word': '験', 'start': 4.900000095367432, 'end': 4.920000076293945}, {'word': 'して', 'start': 4.920000076293945, 'end': 5.28000020980835}, {'word': 'いた', 'start': 5.28000020980835, 'end': 5.460000038146973}, {'word': 'の', 'start': 5.460000038146973, 'end': 5.639999866485596}, {'word': 'です', 'start': 5.639999866485596, 'end': 5.900000095367432}, {'word': 'が', 'start': 5.900000095367432, 'end': 7.480000019073486}, {'word': 'こう', 'start': 30.0, 'end': 30.360000610351562}, {'word': 'した', 'start': 30.360000610351562, 'end': 30.3799991607666}, {'word': '体', 'start': 30.3799991607666, 'end': 30.719999313354492}, {'word': '験', 'start': 30.719999313354492, 'end': 30.760000228881836}, {'word': 'や', 'start': 30.760000228881836, 'end': 31.31999969482422}, {'word': '生', 'start': 31.31999969482422, 'end': 31.739999771118164}, {'word': '徒', 'start': 31.739999771118164, 'end': 31.780000686645508}, {'word': '同', 'start': 31.780000686645508, 'end': 32.060001373291016}, {'word': '士', 'start': 32.060001373291016, 'end': 32.060001373291016}, {'word': 'が', 'start': 32.060001373291016, 'end': 32.52000045776367}, {'word': '積', 'start': 32.52000045776367, 'end': 32.599998474121094}, {'word': '極', 'start': 32.599998474121094, 'end': 32.70000076293945}, {'word': '的', 'start': 32.70000076293945, 'end': 33.02000045776367}, {'word': 'に', 'start': 33.02000045776367, 'end': 33.279998779296875}, {'word': 'コ', 'start': 33.279998779296875, 'end': 33.400001525878906}, {'word': 'ミ', 'start': 33.400001525878906, 'end': 33.400001525878906}, {'word': 'ュ', 'start': 33.400001525878906, 'end': 33.52000045776367}, {'word': 'ニ', 'start': 33.52000045776367, 'end': 33.52000045776367}, {'word': 'ケ', 'start': 33.52000045776367, 'end': 33.599998474121094}, {'word': 'ー', 'start': 33.599998474121094, 'end': 33.7400016784668}, {'word': 'ショ', 'start': 33.7400016784668, 'end': 33.79999923706055}, {'word': 'ン', 'start': 33.79999923706055, 'end': 33.81999969482422}, {'word': 'を', 'start': 33.81999969482422, 'end': 34.060001373291016}, {'word': '取', 'start': 34.060001373291016, 'end': 34.08000183105469}, {'word': 'る', 'start': 34.08000183105469, 'end': 34.20000076293945}, {'word': 'こと', 'start': 34.20000076293945, 'end': 34.380001068115234}, {'word': 'が、', 'start': 34.380001068115234, 'end': 34.720001220703125}, {'word': 'この', 'start': 35.29999923706055, 'end': 35.29999923706055}, {'word': '交', 'start': 35.29999923706055, 'end': 35.5}, {'word': '流', 'start': 35.5, 'end': 35.68000030517578}, {'word': '会', 'start': 35.68000030517578, 'end': 35.81999969482422}, {'word': 'の', 'start': 35.81999969482422, 'end': 36.31999969482422}, {'word': '狙', 'start': 36.31999969482422, 'end': 36.41999816894531}, {'word': 'い', 'start': 36.41999816894531, 'end': 36.619998931884766}, {'word': 'だ', 'start': 36.619998931884766, 'end': 36.779998779296875}, {'word': 'と', 'start': 36.779998779296875, 'end': 37.060001373291016}, {'word': 'い', 'start': 37.060001373291016, 'end': 37.060001373291016}, {'word': 'います。', 'start': 37.060001373291016, 'end': 37.29999923706055}, {'word': '日本', 'start': 57.52000045776367, 'end': 58.040000915527344}, {'word': 'と', 'start': 58.040000915527344, 'end': 58.2400016784668}, {'word': '韓', 'start': 58.2400016784668, 'end': 58.560001373291016}, {'word': '国', 'start': 58.560001373291016, 'end': 58.619998931884766}, {'word': 'の', 'start': 58.619998931884766, 'end': 58.880001068115234}, {'word': '若', 'start': 58.880001068115234, 'end': 59.13999938964844}, {'word': 'い', 'start': 59.13999938964844, 'end': 59.439998626708984}, {'word': '世', 'start': 59.439998626708984, 'end': 59.58000183105469}, {'word': '代', 'start': 59.58000183105469, 'end': 59.599998474121094}, {'word': 'が、', 'start': 59.599998474121094, 'end': 60.34000015258789}, {'word': 'お', 'start': 60.599998474121094, 'end': 60.599998474121094}, {'word': '互', 'start': 60.599998474121094, 'end': 60.63999938964844}, {'word': 'い', 'start': 60.63999938964844, 'end': 60.91999816894531}, {'word': 'の', 'start': 60.91999816894531, 'end': 61.060001373291016}, {'word': '国', 'start': 61.060001373291016, 'end': 61.13999938964844}, {'word': 'を', 'start': 61.13999938964844, 'end': 61.400001525878906}, {'word': '考', 'start': 61.400001525878906, 'end': 61.7599983215332}, {'word': 'える', 'start': 61.7599983215332, 'end': 62.02000045776367}, {'word': '交', 'start': 62.02000045776367, 'end': 62.5}, {'word': '流', 'start': 62.5, 'end': 62.70000076293945}, {'word': '会。', 'start': 62.70000076293945, 'end': 62.900001525878906}, {'word': 'そして', 'start': 64.9000015258789, 'end': 65.13999938964844}, {'word': '今、', 'start': 65.13999938964844, 'end': 65.5999984741211}, {'word': 'ト', 'start': 66.18000030517578, 'end': 66.33999633789062}, {'word': 'ップ', 'start': 66.33999633789062, 'end': 66.33999633789062}, {'word': '同', 'start': 66.33999633789062, 'end': 66.58000183105469}, {'word': '士', 'start': 66.58000183105469, 'end': 66.58000183105469}, {'word': 'の', 'start': 66.58000183105469, 'end': 66.83999633789062}, {'word': '交', 'start': 66.83999633789062, 'end': 67.0199966430664}, {'word': '流', 'start': 67.0199966430664, 'end': 67.08000183105469}, {'word': 'では、', 'start': 67.08000183105469, 'end': 67.45999908447266}, {'word': '日本', 'start': 67.45999908447266, 'end': 67.45999908447266}, {'word': 'と', 'start': 67.45999908447266, 'end': 67.45999908447266}, {'word': '韓', 'start': 67.45999908447266, 'end': 67.45999908447266}, {'word': '日', 'start': 67.68000030517578, 'end': 68.04000091552734}, {'word': '韓', 'start': 68.04000091552734, 'end': 68.16000366210938}, {'word': '関', 'start': 68.16000366210938, 'end': 68.5}, {'word': '係', 'start': 68.5, 'end': 68.55999755859375}, {'word': 'が', 'start': 68.55999755859375, 'end': 68.9800033569336}, {'word': '大', 'start': 68.9800033569336, 'end': 69.26000213623047}, {'word': 'き', 'start': 69.26000213623047, 'end': 69.33999633789062}, {'word': 'く', 'start': 69.33999633789062, 'end': 69.5199966430664}, {'word': '動', 'start': 69.5199966430664, 'end': 69.69999694824219}, {'word': 'き', 'start': 69.69999694824219, 'end': 69.9000015258789}, {'word': '出', 'start': 69.9000015258789, 'end': 69.91999816894531}, {'word': 'して', 'start': 69.91999816894531, 'end': 70.0999984741211}, {'word': 'います。', 'start': 70.0999984741211, 'end': 70.44000244140625}, {'word': '日本', 'start': 71.91999816894531, 'end': 72.04000091552734}, {'word': 'と', 'start': 72.04000091552734, 'end': 72.33999633789062}, {'word': '韓', 'start': 72.33999633789062, 'end': 72.5199966430664}, {'word': '国', 'start': 72.5199966430664, 'end': 72.66000366210938}, {'word': 'の', 'start': 72.66000366210938, 'end': 72.91999816894531}, {'word': '両', 'start': 72.91999816894531, 'end': 73.08000183105469}, {'word': '首', 'start': 73.08000183105469, 'end': 73.26000213623047}, {'word': '脳', 'start': 73.26000213623047, 'end': 73.27999877929688}, {'word': 'は、', 'start': 73.27999877929688, 'end': 73.91999816894531}, {'word': 'お', 'start': 74.05999755859375, 'end': 74.16000366210938}, {'word': '互', 'start': 74.16000366210938, 'end': 74.19999694824219}, {'word': 'い', 'start': 74.19999694824219, 'end': 74.44000244140625}, {'word': 'の', 'start': 74.44000244140625, 'end': 74.5999984741211}, {'word': '国', 'start': 74.5999984741211, 'end': 74.68000030517578}, {'word': 'を', 'start': 74.68000030517578, 'end': 74.91999816894531}, {'word': '訪', 'start': 74.91999816894531, 'end': 75.0999984741211}, {'word': 'れる', 'start': 75.0999984741211, 'end': 75.4800033569336}, {'word': 'シ', 'start': 75.4800033569336, 'end': 76.05999755859375}, {'word': 'ャ', 'start': 76.05999755859375, 'end': 76.05999755859375}, {'word': 'ト', 'start': 76.05999755859375, 'end': 76.05999755859375}, {'word': 'ル', 'start': 76.05999755859375, 'end': 76.13999938964844}, {'word': '外', 'start': 76.13999938964844, 'end': 76.41999816894531}, {'word': '交', 'start': 76.41999816894531, 'end': 76.45999908447266}, {'word': 'を', 'start': 76.45999908447266, 'end': 76.81999969482422}, {'word': '12', 'start': 76.81999969482422, 'end': 77.18000030517578}, {'word': '年', 'start': 77.18000030517578, 'end': 77.44000244140625}, {'word': 'ぶ', 'start': 77.44000244140625, 'end': 77.5}, {'word': 'り', 'start': 77.5, 'end': 77.5999984741211}, {'word': 'に', 'start': 77.5999984741211, 'end': 77.95999908447266}, {'word': '再', 'start': 77.95999908447266, 'end': 78.05999755859375}, {'word': '開。', 'start': 78.05999755859375, 'end': 78.13999938964844}, {'word': 'そ', 'start': 81.18000030517578, 'end': 81.30000305175781}, {'word': 'こ', 'start': 81.30000305175781, 'end': 81.33999633789062}, {'word': 'で、', 'start': 81.33999633789062, 'end': 81.94000244140625}, {'word': 'い', 'start': 82.04000091552734, 'end': 82.18000030517578}, {'word': 'わ', 'start': 82.18000030517578, 'end': 82.18000030517578}, {'word': 'ゆ', 'start': 82.18000030517578, 'end': 82.22000122070312}, {'word': 'る', 'start': 82.22000122070312, 'end': 82.36000061035156}, {'word': '元', 'start': 82.36000061035156, 'end': 82.68000030517578}, {'word': '徴', 'start': 82.68000030517578, 'end': 82.9800033569336}, {'word': '用', 'start': 82.9800033569336, 'end': 83.12000274658203}, {'word': '工', 'start': 83.12000274658203, 'end': 83.22000122070312}, {'word': '問題', 'start': 83.22000122070312, 'end': 83.63999938964844}, {'word': 'な', 'start': 83.63999938964844, 'end': 83.87999725341797}, {'word': 'ど', 'start': 83.87999725341797, 'end': 83.94000244140625}, {'word': 'の', 'start': 83.94000244140625, 'end': 84.31999969482422}, {'word': '歴', 'start': 84.31999969482422, 'end': 84.45999908447266}, {'word': '史', 'start': 84.45999908447266, 'end': 84.5199966430664}, {'word': '問題', 'start': 84.5199966430664, 'end': 84.9000015258789}, {'word': 'の', 'start': 84.9000015258789, 'end': 85.26000213623047}, {'word': '解', 'start': 85.26000213623047, 'end': 85.27999877929688}, {'word': '決', 'start': 85.27999877929688, 'end': 85.44000244140625}, {'word': 'よ', 'start': 85.44000244140625, 'end': 85.63999938964844}, {'word': 'り', 'start': 85.63999938964844, 'end': 85.68000030517578}, {'word': 'も、', 'start': 85.68000030517578, 'end': 86.37999725341797}, {'word': '未', 'start': 86.44000244140625, 'end': 86.44000244140625}, {'word': '来', 'start': 86.44000244140625, 'end': 86.62000274658203}, {'word': 'に', 'start': 86.62000274658203, 'end': 86.86000061035156}, {'word': '向', 'start': 86.86000061035156, 'end': 86.86000061035156}, {'word': 'け', 'start': 86.86000061035156, 'end': 86.95999908447266}, {'word': 'た', 'start': 86.95999908447266, 'end': 87.30000305175781}, {'word': '協', 'start': 87.30000305175781, 'end': 87.41999816894531}, {'word': '力', 'start': 87.41999816894531, 'end': 87.5199966430664}, {'word': 'を', 'start': 87.5199966430664, 'end': 87.94000244140625}, {'word': '優', 'start': 87.94000244140625, 'end': 87.94000244140625}, {'word': '先', 'start': 87.94000244140625, 'end': 88.08000183105469}, {'word': 'す', 'start': 88.08000183105469, 'end': 88.33999633789062}, {'word': 'べ', 'start': 88.33999633789062, 'end': 88.33999633789062}, {'word': 'き', 'start': 88.33999633789062, 'end': 88.44000244140625}, {'word': 'と', 'start': 88.44000244140625, 'end': 88.63999938964844}, {'word': '発', 'start': 88.63999938964844, 'end': 88.80000305175781}, {'word': '言', 'start': 88.80000305175781, 'end': 88.94000244140625}, {'word': 'しました。', 'start': 88.94000244140625, 'end': 89.33999633789062}, {'word': '今回', 'start': 112.36000061035156, 'end': 112.72000122070312}, {'word': 'の', 'start': 112.72000122070312, 'end': 112.9000015258789}, {'word': '交', 'start': 112.9000015258789, 'end': 113.08000183105469}, {'word': '流', 'start': 113.08000183105469, 'end': 113.23999786376953}, {'word': '会', 'start': 113.23999786376953, 'end': 113.41999816894531}, {'word': 'に', 'start': 113.41999816894531, 'end': 113.81999969482422}, {'word': '参', 'start': 113.81999969482422, 'end': 113.9000015258789}, {'word': '加', 'start': 113.9000015258789, 'end': 113.91999816894531}, {'word': 'した', 'start': 113.91999816894531, 'end': 114.4800033569336}, {'word': 'カ', 'start': 114.4800033569336, 'end': 114.9000015258789}, {'word': 'リ', 'start': 114.9000015258789, 'end': 114.94000244140625}, {'word': 'ア', 'start': 114.94000244140625, 'end': 115.0199966430664}, {'word': 'キ', 'start': 115.0199966430664, 'end': 115.13999938964844}, {'word': 'タ', 'start': 115.13999938964844, 'end': 115.23999786376953}, {'word': '高', 'start': 115.23999786376953, 'end': 115.54000091552734}, {'word': '校', 'start': 115.54000091552734, 'end': 115.62000274658203}, {'word': 'の', 'start': 115.62000274658203, 'end': 116.05999755859375}, {'word': 'ヨ', 'start': 116.05999755859375, 'end': 116.16000366210938}, {'word': 'ツ', 'start': 116.16000366210938, 'end': 116.18000030517578}, {'word': 'ハ', 'start': 116.18000030517578, 'end': 116.22000122070312}, {'word': 'さん。', 'start': 116.22000122070312, 'end': 116.55999755859375}, {'word': '家', 'start': 117.76000213623047, 'end': 117.87999725341797}, {'word': '族', 'start': 117.87999725341797, 'end': 117.95999908447266}, {'word': 'で', 'start': 117.95999908447266, 'end': 118.26000213623047}, {'word': '韓', 'start': 118.26000213623047, 'end': 118.5199966430664}, {'word': '国', 'start': 118.5199966430664, 'end': 118.55999755859375}, {'word': 'に', 'start': 118.55999755859375, 'end': 118.9000015258789}, {'word': '行', 'start': 118.9000015258789, 'end': 118.9000015258789}, {'word': 'った', 'start': 118.9000015258789, 'end': 118.91999816894531}, {'word': 'と', 'start': 118.91999816894531, 'end': 119.12000274658203}, {'word': 'き、', 'start': 119.12000274658203, 'end': 119.31999969482422}, {'word': '現', 'start': 119.66000366210938, 'end': 119.86000061035156}, {'word': '地', 'start': 119.86000061035156, 'end': 119.9000015258789}, {'word': 'の', 'start': 119.9000015258789, 'end': 119.9800033569336}, {'word': '人', 'start': 119.9800033569336, 'end': 119.9800033569336}, {'word': 'た', 'start': 119.9800033569336, 'end': 119.9800033569336}, {'word': 'ち', 'start': 119.9800033569336, 'end': 119.9800033569336}, {'word': 'に', 'start': 119.9800033569336, 'end': 119.9800033569336}, {'word': '韓', 'start': 119.9800033569336, 'end': 119.9800033569336}, {'word': '国', 'start': 119.9800033569336, 'end': 119.9800033569336}, {'word': '語', 'start': 119.9800033569336, 'end': 119.9800033569336}])"
      ]
     },
     "execution_count": 7,
     "metadata": {},
     "output_type": "execute_result"
    }
   ],
   "source": [
    "transcript"
   ]
  },
  {
   "cell_type": "code",
   "execution_count": 8,
   "metadata": {},
   "outputs": [
    {
     "data": {
      "text/plain": [
       "{'word': '日本', 'start': 0.0, 'end': 0.41999998688697815}"
      ]
     },
     "execution_count": 8,
     "metadata": {},
     "output_type": "execute_result"
    }
   ],
   "source": [
    "transcript.words[0]"
   ]
  },
  {
   "cell_type": "code",
   "execution_count": 25,
   "metadata": {},
   "outputs": [],
   "source": [
    "t, m = gpt_split_sentence_translation(gpt, transcript.text, \"Chinese\")"
   ]
  },
  {
   "cell_type": "code",
   "execution_count": 26,
   "metadata": {},
   "outputs": [
    {
     "data": {
      "text/plain": [
       "['日本の部活動体験では',\n",
       " '作動部でお茶の立て方などを体験していたのですが',\n",
       " 'こうした体験や生徒同士が積極的にコミュニケーションを取ることが',\n",
       " 'この交流会の狙いだといいます',\n",
       " '日本と韓国の若い世代が',\n",
       " 'お互いの国を考える交流会',\n",
       " 'そして今、トップ同士の交流では',\n",
       " '日韓関係が大きく動き出しています',\n",
       " '日本と韓国の両首脳は',\n",
       " 'お互いの国を訪れるシャトル外交を12年ぶりに再開',\n",
       " 'そこで、いわゆる元徴用工問題などの歴史問題の解決よりも',\n",
       " '未来に向けた協力を優先すべきと発言しました',\n",
       " '未来に向けた協力を優先すべきと発言しました',\n",
       " '今回の交流会に参加したカリアキタ高校のヨツハさん',\n",
       " '家族で韓国に行ったとき',\n",
       " '現地の人たちに']"
      ]
     },
     "execution_count": 26,
     "metadata": {},
     "output_type": "execute_result"
    }
   ],
   "source": [
    "m"
   ]
  },
  {
   "cell_type": "code",
   "execution_count": 30,
   "metadata": {},
   "outputs": [
    {
     "ename": "SyntaxError",
     "evalue": "invalid syntax (2119206429.py, line 62)",
     "output_type": "error",
     "traceback": [
      "\u001b[1;36m  Cell \u001b[1;32mIn[30], line 62\u001b[1;36m\u001b[0m\n\u001b[1;33m    def\u001b[0m\n\u001b[1;37m        ^\u001b[0m\n\u001b[1;31mSyntaxError\u001b[0m\u001b[1;31m:\u001b[0m invalid syntax\n"
     ]
    }
   ],
   "source": [
    "\n",
    "def levenshtein_distance(s1, s2):\n",
    "    if len(s1) < len(s2):\n",
    "        return levenshtein_distance(s2, s1)\n",
    "\n",
    "    if len(s2) == 0:\n",
    "        return len(s1)\n",
    "\n",
    "    previous_row = range(len(s2) + 1)\n",
    "    for i, c1 in enumerate(s1):\n",
    "        current_row = [i + 1]\n",
    "        for j, c2 in enumerate(s2):\n",
    "            insertions = previous_row[j + 1] + 1\n",
    "            deletions = current_row[j] + 1\n",
    "            substitutions = previous_row[j] + (c1 != c2)\n",
    "            current_row.append(min(insertions, deletions, substitutions))\n",
    "        previous_row = current_row\n",
    "\n",
    "    return previous_row[-1]\n",
    "\n",
    "\n",
    "def sliding_matching(words_data, sentences):\n",
    "    # remove all spaces\n",
    "    sentences = [x.replace(\" \", \"\") for x in sentences]\n",
    "    words = []\n",
    "    words_map = []\n",
    "    time_map = []\n",
    "    location = 0\n",
    "    \n",
    "    for i, word in enumerate(words_data):\n",
    "        wordStr = word[\"word\"]\n",
    "        for char in wordStr:\n",
    "            words.append(char)\n",
    "            words_map.append(i)\n",
    "    \n",
    "\n",
    "    for sentence in sentences:\n",
    "        min_distance = 9999999\n",
    "        min_location = 0\n",
    "\n",
    "        for i in range(0, len(words)-len(sentence)+1):\n",
    "            be_matched = \"\".join(words[i:i+len(sentence)])\n",
    "            distance = levenshtein_distance(be_matched, sentence)\n",
    "            distance += abs(i - location) * 0.1\n",
    "\n",
    "            #print(\"be_matched: {} distance: {}, len {}\".format(be_matched, distance, len(be_matched)))\n",
    "            if distance < min_distance:\n",
    "                min_distance = distance\n",
    "                min_location = i\n",
    "\n",
    "        location += len(sentence)\n",
    "        # print(\"\\n\\nmin_location: \", min_location)\n",
    "        # print(\"sentence: \", sentence)\n",
    "        # print(\"Matched : \", \"\".join(words[min_location:min_location+len(sentence)]))\n",
    "        time_map.append(\n",
    "            (words_data[words_map[min_location]][\"start\"],\n",
    "             words_data[words_map[min_location + len(sentence)-1]][\"end\"])\n",
    "        )\n",
    "    \n",
    "    return time_map\n"
   ]
  },
  {
   "cell_type": "code",
   "execution_count": 31,
   "metadata": {},
   "outputs": [],
   "source": [
    "time_map = sliding_matching(transcript.words, m)\n"
   ]
  },
  {
   "cell_type": "code",
   "execution_count": 29,
   "metadata": {},
   "outputs": [
    {
     "data": {
      "text/plain": [
       "[(0.0, 2.140000104904175),\n",
       " (2.680000066757202, 7.480000019073486),\n",
       " (30.0, 34.720001220703125),\n",
       " (35.29999923706055, 37.29999923706055),\n",
       " (57.52000045776367, 60.34000015258789),\n",
       " (60.599998474121094, 62.900001525878906),\n",
       " (64.9000015258789, 67.45999908447266),\n",
       " (67.68000030517578, 70.44000244140625),\n",
       " (71.91999816894531, 73.91999816894531),\n",
       " (74.05999755859375, 78.13999938964844),\n",
       " (81.18000030517578, 86.37999725341797),\n",
       " (86.44000244140625, 89.33999633789062),\n",
       " (86.44000244140625, 89.33999633789062),\n",
       " (112.36000061035156, 116.55999755859375),\n",
       " (117.76000213623047, 119.31999969482422),\n",
       " (119.66000366210938, 119.9800033569336)]"
      ]
     },
     "execution_count": 29,
     "metadata": {},
     "output_type": "execute_result"
    }
   ],
   "source": [
    "time_map\n"
   ]
  },
  {
   "cell_type": "code",
   "execution_count": null,
   "metadata": {},
   "outputs": [],
   "source": []
  },
  {
   "cell_type": "code",
   "execution_count": null,
   "metadata": {},
   "outputs": [],
   "source": []
  }
 ],
 "metadata": {
  "kernelspec": {
   "display_name": "Python 3",
   "language": "python",
   "name": "python3"
  },
  "language_info": {
   "codemirror_mode": {
    "name": "ipython",
    "version": 3
   },
   "file_extension": ".py",
   "mimetype": "text/x-python",
   "name": "python",
   "nbconvert_exporter": "python",
   "pygments_lexer": "ipython3",
   "version": "3.11.4"
  }
 },
 "nbformat": 4,
 "nbformat_minor": 2
}
